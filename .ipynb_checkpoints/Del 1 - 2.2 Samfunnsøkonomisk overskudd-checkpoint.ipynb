{
 "cells": [
  {
   "cell_type": "markdown",
   "id": "c5d45536-217b-4572-b5b3-3e36818057cd",
   "metadata": {},
   "source": [
    "# Sok-2030 Næringsøkonomi og konkuransestrategi\n",
    "## Del 1 Grunleggende Mikro\n",
    "### Samfunnsøkonomisk overskudd"
   ]
  },
  {
   "cell_type": "code",
   "execution_count": 2,
   "id": "a43096e9-a8bb-4db9-a9a0-746f65cf98f5",
   "metadata": {},
   "outputs": [],
   "source": [
    "import sympy as sp\n",
    "import numpy as np\n",
    "from matplotlib import pyplot as plt"
   ]
  },
  {
   "cell_type": "code",
   "execution_count": 4,
   "id": "fb7150d2-1af4-4181-9672-3edd36ec0351",
   "metadata": {},
   "outputs": [],
   "source": [
    "def demand(Q):\n",
    "    return (120-(9*Q)/50)"
   ]
  },
  {
   "cell_type": "code",
   "execution_count": 5,
   "id": "4ff947fb-0d9b-4cd4-8b22-c1f886494571",
   "metadata": {},
   "outputs": [],
   "source": [
    "def supply(Q):\n",
    "    return 10+Q/25"
   ]
  },
  {
   "cell_type": "code",
   "execution_count": 6,
   "id": "e08d8ee1-2428-4d00-9b00-65a69262c6ad",
   "metadata": {},
   "outputs": [
    {
     "data": {
      "text/latex": [
       "$\\displaystyle 120 - \\frac{9 Q}{50} = \\frac{Q}{25} + 10$"
      ],
      "text/plain": [
       "Eq(120 - 9*Q/50, Q/25 + 10)"
      ]
     },
     "execution_count": 6,
     "metadata": {},
     "output_type": "execute_result"
    }
   ],
   "source": [
    "Q=sp.symbols('Q', real=True, positive=True)\n",
    "equ=sp.Eq(demand(Q),supply(Q))\n",
    "equ"
   ]
  },
  {
   "cell_type": "code",
   "execution_count": 7,
   "id": "b9e61ee0-4e0e-411f-ada1-658a4054e3b8",
   "metadata": {},
   "outputs": [
    {
     "data": {
      "text/latex": [
       "$\\displaystyle 500$"
      ],
      "text/plain": [
       "500"
      ]
     },
     "execution_count": 7,
     "metadata": {},
     "output_type": "execute_result"
    }
   ],
   "source": [
    "Q_equ=sp.solve(equ,Q)[0]\n",
    "Q_equ"
   ]
  },
  {
   "cell_type": "code",
   "execution_count": 8,
   "id": "976bde6b-2028-4322-acf6-a46c2bf40aac",
   "metadata": {},
   "outputs": [
    {
     "data": {
      "text/latex": [
       "$\\displaystyle 30$"
      ],
      "text/plain": [
       "30"
      ]
     },
     "execution_count": 8,
     "metadata": {},
     "output_type": "execute_result"
    }
   ],
   "source": [
    "p_eq=demand(Q_equ)\n",
    "p_eq"
   ]
  },
  {
   "cell_type": "code",
   "execution_count": 9,
   "id": "f48cf7a2-f716-4ab2-94ae-87937af8da77",
   "metadata": {},
   "outputs": [
    {
     "data": {
      "text/latex": [
       "$\\displaystyle 22500$"
      ],
      "text/plain": [
       "22500"
      ]
     },
     "execution_count": 9,
     "metadata": {},
     "output_type": "execute_result"
    }
   ],
   "source": [
    "consumer_surplus=sp.integrate(demand(Q)-p_eq,(Q,0,Q_equ))\n",
    "consumer_surplus"
   ]
  },
  {
   "cell_type": "code",
   "execution_count": 10,
   "id": "5d6ba5cc-e359-4cca-b1a6-11916a905da2",
   "metadata": {},
   "outputs": [
    {
     "data": {
      "text/latex": [
       "$\\displaystyle 5000$"
      ],
      "text/plain": [
       "5000"
      ]
     },
     "execution_count": 10,
     "metadata": {},
     "output_type": "execute_result"
    }
   ],
   "source": [
    "producer_surplus=sp.integrate(p_eq-supply(Q),(Q,0,Q_equ))\n",
    "producer_surplus"
   ]
  },
  {
   "cell_type": "code",
   "execution_count": 13,
   "id": "e4475e1f-8303-4aab-a1cc-b4ceec98e5b2",
   "metadata": {},
   "outputs": [
    {
     "data": {
      "text/plain": [
       "27500.0"
      ]
     },
     "execution_count": 13,
     "metadata": {},
     "output_type": "execute_result"
    }
   ],
   "source": [
    "welfare_surplus=float(sp.integrate(demand(Q)-supply(Q),(Q,0,Q_equ)))\n",
    "welfare_surplus"
   ]
  },
  {
   "cell_type": "code",
   "execution_count": null,
   "id": "743f235c-bcf2-49a0-b992-d3fa95dee99f",
   "metadata": {},
   "outputs": [],
   "source": [
    "#drawing 100 points in the interval 0.0 to 100\n",
    "Q = np.linspace(1,800,800)\n",
    "\n",
    "#drawing marginalrevenue\n",
    "plt.plot(Q,marginalrevenue(Q),label='MR')\n",
    "\n",
    "#drawing marginalcost\n",
    "plt.plot(Q,marginalcost(Q),label='MC')\n",
    "#drawing demand\n",
    "plt.plot(Q,demand(Q),color='green',label='Etterspørsel')\n",
    "\n",
    "#adding legend:\n",
    "plt.legend(loc='lower right')\n",
    "\n",
    "#setting the axis lables\n",
    "plt.ylabel('Pris')\n",
    "plt.xlabel('Enheter')\n",
    "\n",
    "#setting the range of y values (the price) to be between 0 and 30, so that we can more\n",
    "#easily see the equilibrium price\n",
    "plt.ylim((-2,130))"
   ]
  }
 ],
 "metadata": {
  "kernelspec": {
   "display_name": "Python 3 (ipykernel)",
   "language": "python",
   "name": "python3"
  },
  "language_info": {
   "codemirror_mode": {
    "name": "ipython",
    "version": 3
   },
   "file_extension": ".py",
   "mimetype": "text/x-python",
   "name": "python",
   "nbconvert_exporter": "python",
   "pygments_lexer": "ipython3",
   "version": "3.9.13"
  }
 },
 "nbformat": 4,
 "nbformat_minor": 5
}
