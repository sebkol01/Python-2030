{
 "cells": [
  {
   "cell_type": "markdown",
   "id": "55a73bf5-b36f-44d6-a3bc-054ee7ec92da",
   "metadata": {},
   "source": [
    "# Sok-2030 Næringsøkonomi og konkuransestrategi\n",
    "## Del 3 Oligopolmodeller\n",
    "### Bertrand modell med kapasitetsbegrensninger"
   ]
  },
  {
   "cell_type": "code",
   "execution_count": 7,
   "id": "f2ee5a96-78c5-4a27-9c24-97b1d7534560",
   "metadata": {},
   "outputs": [],
   "source": [
    "from sympy import *\n",
    "import sympy as sp\n",
    "from matplotlib import pyplot as plt\n",
    "import numpy as np"
   ]
  },
  {
   "cell_type": "code",
   "execution_count": 2,
   "id": "6097b691-6795-49fc-9b79-daf7498234bd",
   "metadata": {},
   "outputs": [],
   "source": [
    "# etterspørsel er Q=6000-60P\n",
    "def P_demand(P):\n",
    "    return 6000-60*P"
   ]
  },
  {
   "cell_type": "code",
   "execution_count": 11,
   "id": "f77313fb-c137-4ff0-8672-850411201617",
   "metadata": {},
   "outputs": [],
   "source": [
    "# Residual etterspørsel Qt=6000-Qm -60Pt\n",
    "# Qt=6000-1800 -60Pt  => # Qt=4200 -60Pt\n",
    "# Pt=4200/60-Qt/60 => Pt=70-Qt/60\n",
    "\n",
    "def demand(Qt):\n",
    "    return 70-Qt/60"
   ]
  },
  {
   "cell_type": "code",
   "execution_count": 4,
   "id": "d0572c41-9b40-4083-b421-1273e2cdbbae",
   "metadata": {},
   "outputs": [],
   "source": [
    "def marginalrevenue(Qt):\n",
    "    return 70-Qt/30"
   ]
  },
  {
   "cell_type": "code",
   "execution_count": 5,
   "id": "7de02451-e5ed-44bd-bdce-0851ad1c93c4",
   "metadata": {},
   "outputs": [],
   "source": [
    "def marginalcost(Q):\n",
    "    return 10"
   ]
  },
  {
   "cell_type": "code",
   "execution_count": 8,
   "id": "b3c1e07b-ca0b-4d0e-af04-4356f91e4ed8",
   "metadata": {},
   "outputs": [
    {
     "data": {
      "text/latex": [
       "$\\displaystyle 70 - \\frac{Qt}{30} = 10$"
      ],
      "text/plain": [
       "Eq(70 - Qt/30, 10)"
      ]
     },
     "execution_count": 8,
     "metadata": {},
     "output_type": "execute_result"
    }
   ],
   "source": [
    "Qt=sp.symbols('Qt', real=True, positive=True)\n",
    "equ=sp.Eq(marginalrevenue(Qt),marginalcost(Qt))\n",
    "equ"
   ]
  },
  {
   "cell_type": "code",
   "execution_count": 9,
   "id": "2bf0a9a0-2617-4901-855b-9b868c059269",
   "metadata": {},
   "outputs": [
    {
     "data": {
      "text/latex": [
       "$\\displaystyle 1800$"
      ],
      "text/plain": [
       "1800"
      ]
     },
     "execution_count": 9,
     "metadata": {},
     "output_type": "execute_result"
    }
   ],
   "source": [
    "Qt_equ=sp.solve(equ,Qt)[0]\n",
    "Qt_equ"
   ]
  },
  {
   "cell_type": "code",
   "execution_count": 12,
   "id": "1a688a78-c627-4f9b-8e2e-34be73926bce",
   "metadata": {},
   "outputs": [
    {
     "data": {
      "text/latex": [
       "$\\displaystyle 40$"
      ],
      "text/plain": [
       "40"
      ]
     },
     "execution_count": 12,
     "metadata": {},
     "output_type": "execute_result"
    }
   ],
   "source": [
    "pt_eq=demand(Qt_equ)\n",
    "pt_eq"
   ]
  },
  {
   "cell_type": "code",
   "execution_count": null,
   "id": "7381b151-da82-4482-8d4b-3c11cfdfb5ba",
   "metadata": {},
   "outputs": [],
   "source": []
  }
 ],
 "metadata": {
  "kernelspec": {
   "display_name": "Python 3 (ipykernel)",
   "language": "python",
   "name": "python3"
  },
  "language_info": {
   "codemirror_mode": {
    "name": "ipython",
    "version": 3
   },
   "file_extension": ".py",
   "mimetype": "text/x-python",
   "name": "python",
   "nbconvert_exporter": "python",
   "pygments_lexer": "ipython3",
   "version": "3.9.13"
  }
 },
 "nbformat": 4,
 "nbformat_minor": 5
}
