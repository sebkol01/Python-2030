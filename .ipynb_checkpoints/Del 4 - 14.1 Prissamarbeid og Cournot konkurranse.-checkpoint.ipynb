{
 "cells": [
  {
   "cell_type": "markdown",
   "id": "f51c4389-c6b7-4321-92e4-3f939d9dfcc1",
   "metadata": {},
   "source": [
    "# Sok-2030 Næringsøkonomi og konkuransestrategi\n",
    "## Del 4 Prissamarbeid\n",
    "### Cournot model og \"fangens dilemma\"\n",
    "\n",
    "For å se om prissamarbeid vil lønnne seg må vi sammenligne ulike markedstilpasninger. Vi vil her se på optimal tilpasning ved monopol og Cournot konlurranse."
   ]
  },
  {
   "cell_type": "code",
   "execution_count": 91,
   "id": "c3429fe2-df1f-4981-bccd-993469beedab",
   "metadata": {},
   "outputs": [],
   "source": [
    "import sympy as sp\n",
    "import numpy as np\n",
    "from matplotlib import pyplot as plt"
   ]
  },
  {
   "cell_type": "code",
   "execution_count": 33,
   "id": "48f76c35-eb95-44e8-a232-3ee263488d18",
   "metadata": {},
   "outputs": [],
   "source": [
    "# ved symmetriske bedrifter vil q1=q2=q\n",
    "def demand(q):\n",
    "    return (150-q-q)"
   ]
  },
  {
   "cell_type": "code",
   "execution_count": 20,
   "id": "70f2d66e-c508-46b3-9c33-3d537848aec8",
   "metadata": {},
   "outputs": [],
   "source": [
    "# ved symmetriske bedrifter vil q1=q2=q\n",
    "def marginalrevenue(q):\n",
    "    return (150-2*q-q)"
   ]
  },
  {
   "cell_type": "code",
   "execution_count": null,
   "id": "7f71b754-48b7-4803-8c06-95eb73206920",
   "metadata": {},
   "outputs": [],
   "source": [
    "def marginalcost(q):\n",
    "    return (30)"
   ]
  },
  {
   "cell_type": "markdown",
   "id": "7e74b682-2d83-453b-816f-d8dd59bfe8cb",
   "metadata": {},
   "source": [
    "Optimal tilpasning ved Cournot modell"
   ]
  },
  {
   "cell_type": "code",
   "execution_count": 21,
   "id": "07601180-6b1c-43be-9c8a-87afe17e8196",
   "metadata": {},
   "outputs": [
    {
     "data": {
      "text/latex": [
       "$\\displaystyle 150 - 3 q = 30$"
      ],
      "text/plain": [
       "Eq(150 - 3*q, 30)"
      ]
     },
     "execution_count": 21,
     "metadata": {},
     "output_type": "execute_result"
    }
   ],
   "source": [
    "q=sp.symbols('q', real=True, positive=True)\n",
    "equ=sp.Eq(marginalrevenue(q),30)\n",
    "equ"
   ]
  },
  {
   "cell_type": "code",
   "execution_count": 22,
   "id": "4a787ee9-85d3-4537-bdc9-4112f909eb19",
   "metadata": {},
   "outputs": [
    {
     "data": {
      "text/latex": [
       "$\\displaystyle 40$"
      ],
      "text/plain": [
       "40"
      ]
     },
     "execution_count": 22,
     "metadata": {},
     "output_type": "execute_result"
    }
   ],
   "source": [
    "q_equ=sp.solve(equ,q)[0]\n",
    "q_equ"
   ]
  },
  {
   "cell_type": "code",
   "execution_count": 34,
   "id": "dd35413a-408b-4b8d-815a-dccc622933ff",
   "metadata": {},
   "outputs": [
    {
     "data": {
      "text/latex": [
       "$\\displaystyle 70$"
      ],
      "text/plain": [
       "70"
      ]
     },
     "execution_count": 34,
     "metadata": {},
     "output_type": "execute_result"
    }
   ],
   "source": [
    "p_eq=demand(q_equ)\n",
    "p_eq"
   ]
  },
  {
   "cell_type": "code",
   "execution_count": 36,
   "id": "85e7f4f5-6e8e-461f-8b7e-f659d9e7ebb0",
   "metadata": {},
   "outputs": [
    {
     "name": "stdout",
     "output_type": "stream",
     "text": [
      "1600\n"
     ]
    }
   ],
   "source": [
    "# profitt \n",
    "def profitt(q):\n",
    "    return (p_eq-marginalcost(q))*q_equ\n",
    "print (profitt(Q_equ))"
   ]
  },
  {
   "cell_type": "markdown",
   "id": "9b46e237-8ee6-474e-abd4-c051f7269c51",
   "metadata": {},
   "source": [
    "Optimal tilpasning ved avvik når bedrift 1 produsere avtalt mengde på 30 og bedrift 2 velger å avvike fra avtalen om samarbeid\n"
   ]
  },
  {
   "cell_type": "code",
   "execution_count": 48,
   "id": "2d9349b3-291f-4df1-a4e0-233bbc13eaaf",
   "metadata": {},
   "outputs": [],
   "source": [
    "def demand(q1):\n",
    "    return (150-q1-q2)"
   ]
  },
  {
   "cell_type": "code",
   "execution_count": 50,
   "id": "00acdc41-ef02-4fd1-a88a-d21e51f2956b",
   "metadata": {},
   "outputs": [],
   "source": [
    "def demand(q2):\n",
    "    return (150-q1-q2)"
   ]
  },
  {
   "cell_type": "code",
   "execution_count": 72,
   "id": "c8357472-d829-4c51-ab00-d4f3ce6b1031",
   "metadata": {},
   "outputs": [],
   "source": [
    "def marginalrevenue(q2):\n",
    "    return (150-2*q2-q1)"
   ]
  },
  {
   "cell_type": "code",
   "execution_count": 60,
   "id": "7c7cdc64-f379-439f-9d59-c265ed46ff05",
   "metadata": {},
   "outputs": [],
   "source": [
    "def marginalrevenue(q1):\n",
    "    return (150-2*q1-q2)"
   ]
  },
  {
   "cell_type": "code",
   "execution_count": 69,
   "id": "c88532ca-1524-4e01-9c8b-67209db9d03b",
   "metadata": {},
   "outputs": [
    {
     "data": {
      "text/latex": [
       "$\\displaystyle - 2 q_{1} - q_{2} + 150 = 30$"
      ],
      "text/plain": [
       "Eq(-2*q1 - q2 + 150, 30)"
      ]
     },
     "execution_count": 69,
     "metadata": {},
     "output_type": "execute_result"
    }
   ],
   "source": [
    "q1=sp.symbols('q1', real=True, positive=True)\n",
    "equ=sp.Eq(marginalrevenue(q1),30)\n",
    "equ"
   ]
  },
  {
   "cell_type": "code",
   "execution_count": 74,
   "id": "b8103c4c-0418-4575-88d0-032fc8d18f91",
   "metadata": {},
   "outputs": [
    {
     "data": {
      "text/latex": [
       "$\\displaystyle - q_{1} - 2 q_{2} + 150 = 30$"
      ],
      "text/plain": [
       "Eq(-q1 - 2*q2 + 150, 30)"
      ]
     },
     "execution_count": 74,
     "metadata": {},
     "output_type": "execute_result"
    }
   ],
   "source": [
    "q2=sp.symbols('q2', real=True, positive=True)\n",
    "equ=sp.Eq(marginalrevenue(q2),30)\n",
    "equ"
   ]
  },
  {
   "cell_type": "code",
   "execution_count": 70,
   "id": "ba035cda-78f3-408d-ae7a-7c7309a1abdf",
   "metadata": {},
   "outputs": [
    {
     "data": {
      "text/latex": [
       "$\\displaystyle 60 - \\frac{q_{2}}{2}$"
      ],
      "text/plain": [
       "60 - q2/2"
      ]
     },
     "execution_count": 70,
     "metadata": {},
     "output_type": "execute_result"
    }
   ],
   "source": [
    "#reaksjonsfunksjon til bedrift 1\n",
    "q1_equ=sp.solve(equ,q1)[0]\n",
    "q1_equ"
   ]
  },
  {
   "cell_type": "code",
   "execution_count": 92,
   "id": "4ff272f9-be3d-484c-b2de-175178b6c8b2",
   "metadata": {},
   "outputs": [
    {
     "data": {
      "text/latex": [
       "$\\displaystyle 60 - \\frac{q_{1}}{2}$"
      ],
      "text/plain": [
       "60 - q1/2"
      ]
     },
     "execution_count": 92,
     "metadata": {},
     "output_type": "execute_result"
    }
   ],
   "source": [
    "#reaksjonsfunksjon til bedrift 2\n",
    "q2_equ=sp.solve(equ,q2)[0]\n",
    "q2_equ"
   ]
  },
  {
   "cell_type": "code",
   "execution_count": 94,
   "id": "51829692-ffed-456a-b503-ef7cd35e8977",
   "metadata": {},
   "outputs": [
    {
     "name": "stdout",
     "output_type": "stream",
     "text": [
      "45.0\n"
     ]
    }
   ],
   "source": [
    "# optimal mengde for bedrift 2 finner vi ved å sette inn bedrift 1 sin produksjon i RF2 \n",
    "print (60-(30/2))"
   ]
  },
  {
   "cell_type": "code",
   "execution_count": 95,
   "id": "8f4ceed0-2d03-4b00-8a66-d4c17e12f12c",
   "metadata": {},
   "outputs": [
    {
     "name": "stdout",
     "output_type": "stream",
     "text": [
      "75\n"
     ]
    }
   ],
   "source": [
    "# prisen i markedet blir:\n",
    "print (150-30-45)"
   ]
  },
  {
   "cell_type": "code",
   "execution_count": 98,
   "id": "e52a3c74-bf5a-47d0-b46c-648b514a7186",
   "metadata": {},
   "outputs": [
    {
     "name": "stdout",
     "output_type": "stream",
     "text": [
      "1350\n"
     ]
    }
   ],
   "source": [
    "# profitt til bedrift 1 blir da:\n",
    "print ((75-30)*30)"
   ]
  },
  {
   "cell_type": "code",
   "execution_count": 99,
   "id": "892fab9f-6a6d-4bd8-8381-6a1180c5dd8d",
   "metadata": {},
   "outputs": [
    {
     "name": "stdout",
     "output_type": "stream",
     "text": [
      "2025\n"
     ]
    }
   ],
   "source": [
    "# profitt til bedrift 2 blir:\n",
    "print ((75-30)*45)"
   ]
  }
 ],
 "metadata": {
  "kernelspec": {
   "display_name": "Python 3 (ipykernel)",
   "language": "python",
   "name": "python3"
  },
  "language_info": {
   "codemirror_mode": {
    "name": "ipython",
    "version": 3
   },
   "file_extension": ".py",
   "mimetype": "text/x-python",
   "name": "python",
   "nbconvert_exporter": "python",
   "pygments_lexer": "ipython3",
   "version": "3.9.13"
  }
 },
 "nbformat": 4,
 "nbformat_minor": 5
}
