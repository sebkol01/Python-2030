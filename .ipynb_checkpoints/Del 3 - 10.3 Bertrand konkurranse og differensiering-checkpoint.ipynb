{
 "cells": [
  {
   "cell_type": "markdown",
   "id": "4a2134c4-7f42-4c90-98fa-e536b338a88c",
   "metadata": {},
   "source": [
    "# Sok-2030 Næringsøkonomi og konkuransestrategi\n",
    "## Del 3 Oligopolmodeller\n",
    "### Bertrand konkurranse og differensiering"
   ]
  },
  {
   "cell_type": "code",
   "execution_count": 7,
   "id": "91ef2bef-1338-4ea0-bd5e-371760fdaadc",
   "metadata": {},
   "outputs": [],
   "source": [
    "from sympy import *\n",
    "import sympy as sp\n",
    "from matplotlib import pyplot as plt\n",
    "import numpy as np"
   ]
  },
  {
   "cell_type": "code",
   "execution_count": 29,
   "id": "2526e026-b84a-48c3-88d5-e422dea7abc0",
   "metadata": {},
   "outputs": [],
   "source": [
    "P1, P2,c, t,N=symbols('P1 P2 c t N')"
   ]
  },
  {
   "cell_type": "code",
   "execution_count": 34,
   "id": "19250177-c909-48fb-bf6d-c780a9210ea4",
   "metadata": {},
   "outputs": [
    {
     "data": {
      "text/latex": [
       "$\\displaystyle \\frac{N \\left(- P_{1} + P_{2} + t\\right)}{2 t}$"
      ],
      "text/plain": [
       "N*(-P1 + P2 + t)/(2*t)"
      ]
     },
     "execution_count": 34,
     "metadata": {},
     "output_type": "execute_result"
    }
   ],
   "source": [
    "def demand1(P1,t,P2,N):\n",
    "    return (N*(P2-P1+t))/(2*t)\n",
    "demand1(P1,t,P2,N)"
   ]
  },
  {
   "cell_type": "code",
   "execution_count": 36,
   "id": "43bec4b9-2c56-4d47-b794-d3ca71def2cf",
   "metadata": {},
   "outputs": [
    {
     "data": {
      "text/latex": [
       "$\\displaystyle \\frac{N \\left(P_{1} - P_{2} + t\\right)}{2 t}$"
      ],
      "text/plain": [
       "N*(P1 - P2 + t)/(2*t)"
      ]
     },
     "execution_count": 36,
     "metadata": {},
     "output_type": "execute_result"
    }
   ],
   "source": [
    "def demand2(P1,t,P2,N):\n",
    "    return (N*(P1-P2+t))/(2*t)\n",
    "demand2(P1,t,P2,N)"
   ]
  },
  {
   "cell_type": "code",
   "execution_count": 37,
   "id": "c9d90b93-fe3c-4e50-80f9-1f5318bbafb1",
   "metadata": {},
   "outputs": [
    {
     "data": {
      "text/latex": [
       "$\\displaystyle \\frac{N \\left(P_{1} - c\\right) \\left(- P_{1} + P_{2} + t\\right)}{2 t}$"
      ],
      "text/plain": [
       "N*(P1 - c)*(-P1 + P2 + t)/(2*t)"
      ]
     },
     "execution_count": 37,
     "metadata": {},
     "output_type": "execute_result"
    }
   ],
   "source": [
    "def profit1(P1,t,P2,c,N):\n",
    "    return ((P1-c)*demand1(P1,t,P2,N))\n",
    "profit1(P1,t,P2,c,N)"
   ]
  },
  {
   "cell_type": "code",
   "execution_count": 38,
   "id": "846e90c5-7979-4649-8a49-61914f7232cd",
   "metadata": {},
   "outputs": [
    {
     "data": {
      "text/latex": [
       "$\\displaystyle \\frac{N \\left(P_{2} - c\\right) \\left(P_{1} - P_{2} + t\\right)}{2 t}$"
      ],
      "text/plain": [
       "N*(P2 - c)*(P1 - P2 + t)/(2*t)"
      ]
     },
     "execution_count": 38,
     "metadata": {},
     "output_type": "execute_result"
    }
   ],
   "source": [
    "def profit2(P1,t,P2,c,N):\n",
    "    return ((P2-c)*demand2(P1,t,P2,N))\n",
    "profit2(P1,t,P2,c,N)"
   ]
  },
  {
   "cell_type": "code",
   "execution_count": 42,
   "id": "ab963319-c6fb-43dc-8dbb-f47e702dbe71",
   "metadata": {},
   "outputs": [
    {
     "data": {
      "text/latex": [
       "$\\displaystyle - \\frac{N \\left(P_{1} - c\\right)}{2 t} + \\frac{N \\left(- P_{1} + P_{2} + t\\right)}{2 t}$"
      ],
      "text/plain": [
       "-N*(P1 - c)/(2*t) + N*(-P1 + P2 + t)/(2*t)"
      ]
     },
     "metadata": {},
     "output_type": "display_data"
    },
    {
     "data": {
      "text/latex": [
       "$\\displaystyle - \\frac{N \\left(P_{2} - c\\right)}{2 t} + \\frac{N \\left(P_{1} - P_{2} + t\\right)}{2 t}$"
      ],
      "text/plain": [
       "-N*(P2 - c)/(2*t) + N*(P1 - P2 + t)/(2*t)"
      ]
     },
     "metadata": {},
     "output_type": "display_data"
    }
   ],
   "source": [
    "# den deriverte av profittfunksjonen mhp P1 og P2\n",
    "d_profit1=diff(profit1(P1,t,P2,c,N),P1)\n",
    "d_profit2=diff(profit2(P1,t,P2,c,N),P2)\n",
    "\n",
    "display(d_profit1)\n",
    "display(d_profit2)"
   ]
  },
  {
   "cell_type": "code",
   "execution_count": 43,
   "id": "8e5e180d-47cb-4ca7-a715-67c8c6647be8",
   "metadata": {},
   "outputs": [
    {
     "data": {
      "text/latex": [
       "$\\displaystyle c + t$"
      ],
      "text/plain": [
       "c + t"
      ]
     },
     "metadata": {},
     "output_type": "display_data"
    },
    {
     "data": {
      "text/latex": [
       "$\\displaystyle c + t$"
      ],
      "text/plain": [
       "c + t"
      ]
     },
     "metadata": {},
     "output_type": "display_data"
    }
   ],
   "source": [
    "# Optimal pris for bedrift 1 og 2\n",
    "sol=solve([d_profit1,d_profit2],[P1,P2])\n",
    "\n",
    "display(sol[P1])\n",
    "display(sol[P2])"
   ]
  },
  {
   "cell_type": "code",
   "execution_count": 45,
   "id": "c306c5b6-0f8c-4082-b6c0-d782fbe5dc34",
   "metadata": {},
   "outputs": [
    {
     "data": {
      "text/latex": [
       "$\\displaystyle \\frac{P_{2}}{2} + \\frac{c}{2} + \\frac{t}{2}$"
      ],
      "text/plain": [
       "P2/2 + c/2 + t/2"
      ]
     },
     "execution_count": 45,
     "metadata": {},
     "output_type": "execute_result"
    }
   ],
   "source": [
    "#reaksjonsfunksjon til bedrift 1\n",
    "P1_equ=sp.solve(d_profit1,P1)[0]\n",
    "P1_equ"
   ]
  },
  {
   "cell_type": "code",
   "execution_count": 47,
   "id": "173904fa-25e1-4f06-b0a6-21c4e609e537",
   "metadata": {},
   "outputs": [
    {
     "data": {
      "text/latex": [
       "$\\displaystyle \\frac{P_{1}}{2} + \\frac{c}{2} + \\frac{t}{2}$"
      ],
      "text/plain": [
       "P1/2 + c/2 + t/2"
      ]
     },
     "execution_count": 47,
     "metadata": {},
     "output_type": "execute_result"
    }
   ],
   "source": [
    "#reaksjonsfunksjon til bedrift 2\n",
    "P2_equ=sp.solve(d_profit2,P2)[0]\n",
    "P2_equ"
   ]
  }
 ],
 "metadata": {
  "kernelspec": {
   "display_name": "Python 3 (ipykernel)",
   "language": "python",
   "name": "python3"
  },
  "language_info": {
   "codemirror_mode": {
    "name": "ipython",
    "version": 3
   },
   "file_extension": ".py",
   "mimetype": "text/x-python",
   "name": "python",
   "nbconvert_exporter": "python",
   "pygments_lexer": "ipython3",
   "version": "3.9.13"
  }
 },
 "nbformat": 4,
 "nbformat_minor": 5
}
