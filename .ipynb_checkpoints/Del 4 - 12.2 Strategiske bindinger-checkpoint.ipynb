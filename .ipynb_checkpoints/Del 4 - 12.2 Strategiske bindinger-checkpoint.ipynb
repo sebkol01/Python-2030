{
 "cells": [
  {
   "cell_type": "markdown",
   "id": "e6692f2b-1654-489f-b2a7-45bf79794bf2",
   "metadata": {},
   "source": [
    "# Sok-2030 Næringsøkonomi og konkuransestrategi\n",
    "## Del 4 Etableringsbarrierer og strategiske bindinger\n",
    "### Strategiske bindinger \n",
    "\n",
    "Vi skal se på en modell for stratgiske investeringer i kapasitet; Spence (1977) & Dixit (1980)"
   ]
  },
  {
   "cell_type": "code",
   "execution_count": 69,
   "id": "c8908c6a-8c8e-4229-8ee6-69ddb2b8e8db",
   "metadata": {},
   "outputs": [],
   "source": [
    "import sympy as sp\n",
    "from sympy import *\n",
    "import numpy as np\n",
    "from matplotlib import pyplot as plt"
   ]
  },
  {
   "cell_type": "code",
   "execution_count": 60,
   "id": "f8bad8d7-6aa6-4264-9472-0d453b789687",
   "metadata": {},
   "outputs": [],
   "source": [
    "q1, q2,w,F1,F2,r, A, B, pi,i=symbols('q1 q2 w F1 F2 r A B pi i')\n",
    "\n",
    "def P_demand(Q,A,B):\n",
    "    return A-B*Q\n",
    "\n",
    "def profit(q1,q2,w,r,A,B):\n",
    "    return (P_demand(q1+q2,A,B)-w-r)*q1"
   ]
  },
  {
   "cell_type": "markdown",
   "id": "c963d273-1004-47e9-b514-8c5ac90e0cf7",
   "metadata": {},
   "source": [
    "Modellen løses i to trinn. På trinn 1 velger den etablerte aktøren å investere i kapasitet K. På trinn 2 observerer nykommeren nivået på kapasiet K, og velger etablering eller ikke. Bedriftene velger så optimalt kvantum. Modellen løses ved baklengs induksjon, dvs av vi starter på trinn 2"
   ]
  },
  {
   "cell_type": "markdown",
   "id": "e99743da-43ac-4910-93d7-2ce8e4dac5ff",
   "metadata": {},
   "source": [
    "Trinn 2: Vi starter med markedstilpassning for etablert aktør, hvor vi har marginalkostnader w hvis produsert kvantum er lavere en kapasiteten (q1<K) og for produksjon utover kaoasiteten (q1>K) så vil marginalkostnaden være w+r."
   ]
  },
  {
   "cell_type": "code",
   "execution_count": 23,
   "id": "3ea907b0-e346-479b-8470-c4931d42de49",
   "metadata": {},
   "outputs": [],
   "source": [
    "def marginalrevenue1(q1):\n",
    "    return (A-2*B*q1 -B*q2)"
   ]
  },
  {
   "cell_type": "code",
   "execution_count": 39,
   "id": "2102512f-431d-4dba-ab7c-ebb40d251ed0",
   "metadata": {},
   "outputs": [],
   "source": [
    "def marginalrevenue(q2):\n",
    "    return (A-2*B*q2 -B*q1)"
   ]
  },
  {
   "cell_type": "code",
   "execution_count": 21,
   "id": "fc2472d3-f45b-40af-8a9e-30140948eae5",
   "metadata": {},
   "outputs": [],
   "source": [
    "def marginalcost1(q1):\n",
    "    return (w)"
   ]
  },
  {
   "cell_type": "code",
   "execution_count": 27,
   "id": "968b39a1-335b-4011-b3b2-7f70e77ee9ca",
   "metadata": {},
   "outputs": [],
   "source": [
    "def marginalcost2(q1):\n",
    "    return (w+r)"
   ]
  },
  {
   "cell_type": "code",
   "execution_count": 34,
   "id": "3cc749b7-4080-4b32-b93d-709c2e7ec8aa",
   "metadata": {},
   "outputs": [
    {
     "data": {
      "text/latex": [
       "$\\displaystyle A - 2 B q_{1} - B q_{2} = w$"
      ],
      "text/plain": [
       "Eq(A - 2*B*q1 - B*q2, w)"
      ]
     },
     "execution_count": 34,
     "metadata": {},
     "output_type": "execute_result"
    }
   ],
   "source": [
    "q1=sp.symbols('q1', real=True, positive=True)\n",
    "equ=sp.Eq(marginalrevenue1(q1),marginalcost1(q1))\n",
    "equ"
   ]
  },
  {
   "cell_type": "code",
   "execution_count": 35,
   "id": "2bfb0721-51fc-4cc0-849a-35fd5cea4be6",
   "metadata": {},
   "outputs": [
    {
     "data": {
      "text/latex": [
       "$\\displaystyle \\frac{A - B q_{2} - w}{2 B}$"
      ],
      "text/plain": [
       "(A - B*q2 - w)/(2*B)"
      ]
     },
     "execution_count": 35,
     "metadata": {},
     "output_type": "execute_result"
    }
   ],
   "source": [
    "# reaksjonsfunkjson til bedrift 1 når produksjon er innenfor kapasitet\n",
    "q1_equ=sp.solve(equ,q1)[0]\n",
    "q1_equ"
   ]
  },
  {
   "cell_type": "code",
   "execution_count": 36,
   "id": "ed0f022b-5890-49bc-8bca-97a9c1fc4c10",
   "metadata": {},
   "outputs": [
    {
     "data": {
      "text/latex": [
       "$\\displaystyle A - 2 B q_{1} - B q_{2} = r + w$"
      ],
      "text/plain": [
       "Eq(A - 2*B*q1 - B*q2, r + w)"
      ]
     },
     "execution_count": 36,
     "metadata": {},
     "output_type": "execute_result"
    }
   ],
   "source": [
    "q1=sp.symbols('q1', real=True, positive=True)\n",
    "equ=sp.Eq(marginalrevenue1(q1),marginalcost2(q1))\n",
    "equ"
   ]
  },
  {
   "cell_type": "code",
   "execution_count": 37,
   "id": "49a4f19a-a794-42d2-bdcc-d25d5b0e06ff",
   "metadata": {},
   "outputs": [
    {
     "data": {
      "text/latex": [
       "$\\displaystyle \\frac{A - B q_{2} - r - w}{2 B}$"
      ],
      "text/plain": [
       "(A - B*q2 - r - w)/(2*B)"
      ]
     },
     "execution_count": 37,
     "metadata": {},
     "output_type": "execute_result"
    }
   ],
   "source": [
    "# reaksjonsfunkjson til bedrift 1 når produksjon er større enn kapasiteten\n",
    "q1_equ=sp.solve(equ,q1)[0]\n",
    "q1_equ"
   ]
  },
  {
   "cell_type": "code",
   "execution_count": 40,
   "id": "e890bd77-7d55-498b-af80-296410e39b14",
   "metadata": {},
   "outputs": [
    {
     "data": {
      "text/latex": [
       "$\\displaystyle A - B q_{1} - 2 B q_{2} = r + w$"
      ],
      "text/plain": [
       "Eq(A - B*q1 - 2*B*q2, r + w)"
      ]
     },
     "execution_count": 40,
     "metadata": {},
     "output_type": "execute_result"
    }
   ],
   "source": [
    "q2=sp.symbols('q2', real=True, positive=True)\n",
    "equ=sp.Eq(marginalrevenue(q2),marginalcost2(q1))\n",
    "equ"
   ]
  },
  {
   "cell_type": "code",
   "execution_count": 41,
   "id": "3f13b904-9fd6-4a6b-b761-da70fc8b5be2",
   "metadata": {},
   "outputs": [
    {
     "data": {
      "text/latex": [
       "$\\displaystyle \\frac{A - B q_{1} - r - w}{2 B}$"
      ],
      "text/plain": [
       "(A - B*q1 - r - w)/(2*B)"
      ]
     },
     "execution_count": 41,
     "metadata": {},
     "output_type": "execute_result"
    }
   ],
   "source": [
    "# reaksjonsfunkjson til bedrift 2, som ikke har mulighet til å investere i kapasitet på trinn 2\n",
    "q2_equ=sp.solve(equ,q2)[0]\n",
    "q2_equ"
   ]
  },
  {
   "cell_type": "markdown",
   "id": "d96858ae-91e1-43e5-9904-c3fb16a22ea4",
   "metadata": {},
   "source": [
    "## Stackelbergtilpasning\n",
    "\n",
    "Vi dereiverer profittfunksjon til bedrift 2 mhp q2: π2 = (P-w-r)*q2=(A-B(q1+q2)-w-r)*q2"
   ]
  },
  {
   "cell_type": "code",
   "execution_count": 61,
   "id": "77f81f82-6f4a-4fc7-87ba-ca16c8983228",
   "metadata": {},
   "outputs": [
    {
     "data": {
      "text/latex": [
       "$\\displaystyle A - B q_{2} - B \\left(q_{1} + q_{2}\\right) - r - w$"
      ],
      "text/plain": [
       "A - B*q2 - B*(q1 + q2) - r - w"
      ]
     },
     "execution_count": 61,
     "metadata": {},
     "output_type": "execute_result"
    }
   ],
   "source": [
    "# deriverer profitten til bedrift 2 mhp q2\n",
    "d_profit2_Q=diff(profit(q2,q1,w,r,A,B),q2)\n",
    "d_profit2_Q"
   ]
  },
  {
   "cell_type": "code",
   "execution_count": 62,
   "id": "e1e5abb4-a42a-44e4-8f81-c7634cc0c208",
   "metadata": {},
   "outputs": [
    {
     "data": {
      "text/latex": [
       "$\\displaystyle \\frac{A - B q_{1} - r - w}{2 B}$"
      ],
      "text/plain": [
       "(A - B*q1 - r - w)/(2*B)"
      ]
     },
     "execution_count": 62,
     "metadata": {},
     "output_type": "execute_result"
    }
   ],
   "source": [
    "# setter den deriverte lik 0 og løser likningen => RF2\n",
    "Q2_sol1=solve(d_profit2_Q,q2)[0]\n",
    "Q2_sol1"
   ]
  },
  {
   "cell_type": "markdown",
   "id": "1fc47d0c-5cea-4592-8d91-1a8b0967131f",
   "metadata": {},
   "source": [
    "Setter så reaksjonsfunksjonene til bedrift 2 inn i bedrift 1 sin profittfunksjon, og deriverer dette utrykket mhp q1. Maks π1 =(A-B(q1+q2)-w-r)*q1 gitt q2=(A-Bq1-w-r)/2B"
   ]
  },
  {
   "cell_type": "code",
   "execution_count": 63,
   "id": "6bc835d7-a111-48aa-8add-24b35b98df66",
   "metadata": {},
   "outputs": [
    {
     "data": {
      "text/latex": [
       "$\\displaystyle A - \\frac{B q_{1}}{2} - B \\left(q_{1} + \\frac{A - B q_{1} - r - w}{2 B}\\right) - r - w$"
      ],
      "text/plain": [
       "A - B*q1/2 - B*(q1 + (A - B*q1 - r - w)/(2*B)) - r - w"
      ]
     },
     "execution_count": 63,
     "metadata": {},
     "output_type": "execute_result"
    }
   ],
   "source": [
    "d_profit1_Q=diff(profit(q1,Q2_sol1,w,r,A,B),q1)\n",
    "d_profit1_Q"
   ]
  },
  {
   "cell_type": "markdown",
   "id": "7a28b2ef-4e81-47ad-b59f-de11270813d6",
   "metadata": {},
   "source": [
    "Setter uttrykket lik 0 og finner optimalt kvantum for den etablerte bedriften"
   ]
  },
  {
   "cell_type": "code",
   "execution_count": 65,
   "id": "70506290-7e0b-4586-8d93-5833c58c17f1",
   "metadata": {},
   "outputs": [
    {
     "data": {
      "text/latex": [
       "$\\displaystyle \\frac{A - r - w}{2 B}$"
      ],
      "text/plain": [
       "(A - r - w)/(2*B)"
      ]
     },
     "execution_count": 65,
     "metadata": {},
     "output_type": "execute_result"
    }
   ],
   "source": [
    "Q1_sol=solve(d_profit1_Q,q1)[0]\n",
    "Q1_sol"
   ]
  },
  {
   "cell_type": "markdown",
   "id": "b3899e81-20c5-49c6-8300-653ec462cd27",
   "metadata": {},
   "source": [
    "Setter optimalt kvantum til bedrift 1 inn i RF2 og finner kvantum som bedrift 2 vil produsere"
   ]
  },
  {
   "cell_type": "code",
   "execution_count": 66,
   "id": "b21e988d-cede-422a-9b4a-86c86ec0de6a",
   "metadata": {},
   "outputs": [
    {
     "data": {
      "text/latex": [
       "$\\displaystyle \\frac{\\frac{A}{2} - \\frac{r}{2} - \\frac{w}{2}}{2 B}$"
      ],
      "text/plain": [
       "(A/2 - r/2 - w/2)/(2*B)"
      ]
     },
     "execution_count": 66,
     "metadata": {},
     "output_type": "execute_result"
    }
   ],
   "source": [
    "Q2_sol2=Q2_sol1.subs({q1:Q1_sol})\n",
    "Q2_sol2"
   ]
  },
  {
   "cell_type": "markdown",
   "id": "17af35e2-3dd0-46f4-bc20-849c90398afa",
   "metadata": {},
   "source": [
    "## Tilpasning ved Cournot konkurranse"
   ]
  },
  {
   "cell_type": "code",
   "execution_count": 75,
   "id": "be04275c-be3a-4e97-b5f9-d273eb14bf23",
   "metadata": {},
   "outputs": [],
   "source": [
    "def profit1(q1,q2,w,r,A,B):\n",
    "    return (P_demand(q1+q2,A,B)-w)*q1\n",
    "\n",
    "def profit2(q1,q2,w,r,A,B):\n",
    "    return (P_demand(q1+q2,A,B)-w-r)*q1"
   ]
  },
  {
   "cell_type": "code",
   "execution_count": 76,
   "id": "10061d97-8f98-4fc6-9b0c-f356350df360",
   "metadata": {},
   "outputs": [
    {
     "data": {
      "text/latex": [
       "$\\displaystyle A - B q_{1} - B \\left(q_{1} + q_{2}\\right) - w$"
      ],
      "text/plain": [
       "A - B*q1 - B*(q1 + q2) - w"
      ]
     },
     "metadata": {},
     "output_type": "display_data"
    },
    {
     "data": {
      "text/latex": [
       "$\\displaystyle A - B q_{2} - B \\left(q_{1} + q_{2}\\right) - r - w$"
      ],
      "text/plain": [
       "A - B*q2 - B*(q1 + q2) - r - w"
      ]
     },
     "metadata": {},
     "output_type": "display_data"
    }
   ],
   "source": [
    "d_profit1_Q=diff(profit1(q1,q2,w,r,A,B),q1)\n",
    "d_profit2_Q=diff(profit2(q2,q1,w,r,A,B),q2)\n",
    "\n",
    "display(d_profit1_Q)\n",
    "display(d_profit2_Q)"
   ]
  },
  {
   "cell_type": "code",
   "execution_count": 77,
   "id": "aa8fb4b1-61fe-49bd-884f-7b8658c4a9d9",
   "metadata": {},
   "outputs": [
    {
     "data": {
      "text/latex": [
       "$\\displaystyle \\frac{A + r - w}{3 B}$"
      ],
      "text/plain": [
       "(A + r - w)/(3*B)"
      ]
     },
     "metadata": {},
     "output_type": "display_data"
    },
    {
     "data": {
      "text/latex": [
       "$\\displaystyle \\frac{A - 2 r - w}{3 B}$"
      ],
      "text/plain": [
       "(A - 2*r - w)/(3*B)"
      ]
     },
     "metadata": {},
     "output_type": "display_data"
    }
   ],
   "source": [
    "sol=solve([d_profit1_Q,d_profit2_Q],[q1,q2])\n",
    "\n",
    "display(sol[q1])\n",
    "display(sol[q2])"
   ]
  },
  {
   "cell_type": "code",
   "execution_count": null,
   "id": "5b3ec521-3088-4abf-8a9a-d2b9b0ccbeb2",
   "metadata": {},
   "outputs": [],
   "source": []
  }
 ],
 "metadata": {
  "kernelspec": {
   "display_name": "Python 3 (ipykernel)",
   "language": "python",
   "name": "python3"
  },
  "language_info": {
   "codemirror_mode": {
    "name": "ipython",
    "version": 3
   },
   "file_extension": ".py",
   "mimetype": "text/x-python",
   "name": "python",
   "nbconvert_exporter": "python",
   "pygments_lexer": "ipython3",
   "version": "3.9.13"
  }
 },
 "nbformat": 4,
 "nbformat_minor": 5
}
