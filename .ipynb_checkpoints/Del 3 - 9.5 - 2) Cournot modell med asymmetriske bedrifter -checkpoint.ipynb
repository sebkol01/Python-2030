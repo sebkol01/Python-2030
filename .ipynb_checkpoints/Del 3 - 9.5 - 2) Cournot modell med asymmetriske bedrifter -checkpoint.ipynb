{
 "cells": [
  {
   "cell_type": "markdown",
   "id": "ae624248-9e0f-4a2d-b39a-b6e08fccf051",
   "metadata": {},
   "source": [
    "# Sok-2030 Næringsøkonomi og konkuransestrategi\n",
    "## Del 3 Oligopolmodeller\n",
    "### Cournot modell med asymmetriske bedrifter"
   ]
  },
  {
   "cell_type": "code",
   "execution_count": 3,
   "id": "da0a30f2-b514-45cc-8f5c-d8bbaab1c91a",
   "metadata": {},
   "outputs": [],
   "source": [
    "import sympy as sp\n",
    "import numpy as np\n",
    "from matplotlib import pyplot as plt"
   ]
  },
  {
   "cell_type": "code",
   "execution_count": 3,
   "id": "46cd149d-9c80-4c34-b93e-022460d0783a",
   "metadata": {},
   "outputs": [],
   "source": [
    "def demand(q1):\n",
    "           return (120-20*q1-20*q2)"
   ]
  },
  {
   "cell_type": "code",
   "execution_count": 4,
   "id": "ea7049cc-ab47-4dec-84e5-8339f6cc9020",
   "metadata": {},
   "outputs": [],
   "source": [
    "def demand(q2):\n",
    "           return (120-20*q1-20*q2)"
   ]
  },
  {
   "cell_type": "code",
   "execution_count": 16,
   "id": "b61c9f33-2755-458c-aec1-99ea467cc27b",
   "metadata": {},
   "outputs": [],
   "source": [
    "def marginalrevenue(q1):\n",
    "    return (120-40*q1-20*q2)"
   ]
  },
  {
   "cell_type": "code",
   "execution_count": 12,
   "id": "c78569c0-d7eb-43f7-8db5-aba50d144e0e",
   "metadata": {},
   "outputs": [],
   "source": [
    "def marginalrevenue(q2):\n",
    "    return (120-20*q1-40*q2)"
   ]
  },
  {
   "cell_type": "code",
   "execution_count": 13,
   "id": "171d34cc-4ba0-46a7-868a-909f4ba32561",
   "metadata": {},
   "outputs": [
    {
     "data": {
      "text/latex": [
       "$\\displaystyle - 20 q_{1} - 40 q_{2} + 120 = 40$"
      ],
      "text/plain": [
       "Eq(-20*q1 - 40*q2 + 120, 40)"
      ]
     },
     "execution_count": 13,
     "metadata": {},
     "output_type": "execute_result"
    }
   ],
   "source": [
    "q2=sp.symbols('q2', real=True, positive=True)\n",
    "equ=sp.Eq(marginalrevenue(q2),40)\n",
    "equ"
   ]
  },
  {
   "cell_type": "code",
   "execution_count": 14,
   "id": "b30bc32e-cf33-43b8-a7c3-6b357d104a14",
   "metadata": {},
   "outputs": [
    {
     "data": {
      "text/latex": [
       "$\\displaystyle 2 - \\frac{q_{1}}{2}$"
      ],
      "text/plain": [
       "2 - q1/2"
      ]
     },
     "execution_count": 14,
     "metadata": {},
     "output_type": "execute_result"
    }
   ],
   "source": [
    "#reaksjonsfunksjon til bedrift 2\n",
    "q2_equ=sp.solve(equ,q2)[0]\n",
    "q2_equ"
   ]
  },
  {
   "cell_type": "code",
   "execution_count": 17,
   "id": "b9cc8f8b-771a-4459-9ee2-431b9c4ab3d4",
   "metadata": {},
   "outputs": [
    {
     "data": {
      "text/latex": [
       "$\\displaystyle - 40 q_{1} - 20 q_{2} + 120 = 20$"
      ],
      "text/plain": [
       "Eq(-40*q1 - 20*q2 + 120, 20)"
      ]
     },
     "execution_count": 17,
     "metadata": {},
     "output_type": "execute_result"
    }
   ],
   "source": [
    "q1=sp.symbols('q1', real=True, positive=True)\n",
    "equ=sp.Eq(marginalrevenue(q1),20)\n",
    "equ"
   ]
  },
  {
   "cell_type": "code",
   "execution_count": 18,
   "id": "96913f16-7a65-4243-9ccd-68f387aa76cb",
   "metadata": {},
   "outputs": [
    {
     "data": {
      "text/latex": [
       "$\\displaystyle \\frac{5}{2} - \\frac{q_{2}}{2}$"
      ],
      "text/plain": [
       "5/2 - q2/2"
      ]
     },
     "execution_count": 18,
     "metadata": {},
     "output_type": "execute_result"
    }
   ],
   "source": [
    "#reaksjonsfunksjon til bedrift 1\n",
    "q1_equ=sp.solve(equ,q1)[0]\n",
    "q1_equ"
   ]
  },
  {
   "cell_type": "code",
   "execution_count": 1,
   "id": "91797f63-43f1-4660-bf72-b6cffeb1849c",
   "metadata": {},
   "outputs": [],
   "source": [
    "#Cournot likevekt finner vi ved å sette RF2 inn i RF1 \n"
   ]
  },
  {
   "cell_type": "code",
   "execution_count": 1,
   "id": "69859f30-6955-4945-a1cd-61d794f1e2d5",
   "metadata": {},
   "outputs": [],
   "source": [
    "from sympy.solvers import solve"
   ]
  },
  {
   "cell_type": "code",
   "execution_count": 4,
   "id": "94597c4c-9639-4732-8249-dd1f0db5c268",
   "metadata": {},
   "outputs": [],
   "source": [
    "q1,q2=sp.symbols(\"q1 q2\")\n",
    "symbols=[q1,q2]\n",
    "equations=[\n",
    "    sp.Eq(5/2-0.5*q2-q1,0),\n",
    "    sp.Eq(2-0.5*q1-q2,0)\n",
    "]"
   ]
  },
  {
   "cell_type": "code",
   "execution_count": 5,
   "id": "bca9af75-132e-4130-a99b-51a4d609320c",
   "metadata": {},
   "outputs": [
    {
     "data": {
      "text/plain": [
       "{q1: 2.00000000000000, q2: 1.00000000000000}"
      ]
     },
     "execution_count": 5,
     "metadata": {},
     "output_type": "execute_result"
    }
   ],
   "source": [
    "# Optimalt kvantum\n",
    "solve(equations,symbols)"
   ]
  },
  {
   "cell_type": "code",
   "execution_count": 11,
   "id": "d9a3b4c0-ee8a-493a-9cc3-6f50a14e4c86",
   "metadata": {},
   "outputs": [
    {
     "name": "stdout",
     "output_type": "stream",
     "text": [
      "60\n"
     ]
    }
   ],
   "source": [
    "# Optimal pris\n",
    "print (120-20*(2+1))"
   ]
  }
 ],
 "metadata": {
  "kernelspec": {
   "display_name": "Python 3 (ipykernel)",
   "language": "python",
   "name": "python3"
  },
  "language_info": {
   "codemirror_mode": {
    "name": "ipython",
    "version": 3
   },
   "file_extension": ".py",
   "mimetype": "text/x-python",
   "name": "python",
   "nbconvert_exporter": "python",
   "pygments_lexer": "ipython3",
   "version": "3.9.13"
  }
 },
 "nbformat": 4,
 "nbformat_minor": 5
}
