{
 "cells": [
  {
   "cell_type": "markdown",
   "id": "ba85ca4e-995e-4a42-9262-d457c4dc4065",
   "metadata": {},
   "source": [
    "## Seminar 6 – horisontal og vertikal fusjon\n",
    "\n",
    "Oppgave \n",
    "\n",
    "Bakeribransjen i Nord-Norge består av to bakeri, Bakehuset AS og Bakst AS. Disse to produksjonsbedriftene kjøper mel fra Mølleren AS, som har monopol på salg av mel i Nord-Norge. Både Bakst og Bakehuset selger sine produkter til dagligvarekjedene Norges Gruppen, Coop og Rema. Etterspørselen etter ferske bakervarer fra dagligvarekjedene er P = 50 - (q1 + q2), hvor q1 er produsert kvantum fra Bakehuset og q2 er kvantum fra Bakst. P er prisen på bakervarene som selges til dagligvarekjedene.\n",
    "Begge bakeriene har konstante marginalkostnader i produksjon på k = 5, i tillegg til kostnader for kjøp av mel fra Mølleren. For produksjon av mel hos Mølleren er marginalkostnaden lik c = 5.  I produksjon av bakervarer bestemmes kvantum først og deretter settes markedsprisen.\n",
    "På siste strategisamling i Bakehuset har styret diskutert om de kan gjøre strukturendringer i produksjonen for å forbedre lønnsomheten til bakeriet. Ledelsen i selskapet har lagt frem to forslag: \n",
    "\n",
    "1.\tFor å styrke sin forhandlingsposisjon til dagligvarekjedene, og dermed oppnå høyere pris fra dagligvarebutikkene, vurderer de å fusjonere med sin konkurrent Bakst.  \n",
    "\n",
    "2.\tEn annen mulighet for å styrke sin markedsposisjon og samtidig oppnå lavere produksjonskostnader er å fusjonere med leverandørbedriften Mølleren.\n",
    "\n",
    "a)\tHvilken av disse to forslagene vil du, som styremedlem i Bakehuset AS, anbefale ledelsen av bedriften å gjennomføre? \n",
    "\n",
    "b)\tHva blir de samfunnsøkonomiske effektene av disse to forslagene som ledelsen i Bakehuset har presentert?\n",
    "\n",
    "\n"
   ]
  },
  {
   "cell_type": "markdown",
   "id": "4eadc6d4-8eb8-4d4b-a005-ce9c25d9e645",
   "metadata": {},
   "source": [
    "I) Vi starter med å finne optimal tilpasning i markedet, hvor vi har en oppstrømsbedrift (Mølleren) og to nedstrømsbedrifter (Bakehuset og Bakst). På trinn 2 finner vi likevekt ved Cournot konkurranse, og på trinn 1 finner vi prisen på mel fra Møllern til bakeriene"
   ]
  },
  {
   "cell_type": "code",
   "execution_count": 2,
   "id": "83b5432f-c566-4aed-a8b9-8b3ceb549be5",
   "metadata": {},
   "outputs": [],
   "source": [
    "import sympy as sp\n"
   ]
  },
  {
   "cell_type": "code",
   "execution_count": 3,
   "id": "9cab374e-966f-4832-9de4-94e8abc67414",
   "metadata": {},
   "outputs": [],
   "source": [
    "# Definer symbolene for kvantumene \n",
    "q1, q2, w, Q = sp.symbols('q1 q2 w Q')\n",
    "\n",
    "# Definer etterspørselsfunksjonen\n",
    "def P(q1, q2):\n",
    "    return 50 - q1 - q2"
   ]
  },
  {
   "cell_type": "code",
   "execution_count": 4,
   "id": "7126479e-7232-4648-bd4c-901e287dcafe",
   "metadata": {},
   "outputs": [],
   "source": [
    "# Definer kostnadsfunksjonen for hvert av de to bakeriene\n",
    "k = 5\n",
    "c = 5\n",
    "def C1(q1):\n",
    "    return (k + w) * q1\n",
    "\n",
    "def C2(q2):\n",
    "    return (k + w) * q2"
   ]
  },
  {
   "cell_type": "code",
   "execution_count": 10,
   "id": "9ffc7255-c3ad-4c0b-9869-1c146b22de39",
   "metadata": {},
   "outputs": [],
   "source": [
    "MRI = k + w"
   ]
  },
  {
   "cell_type": "code",
   "execution_count": 11,
   "id": "f1cb751c-fe8a-4aa1-80e1-0c85066afe4f",
   "metadata": {},
   "outputs": [
    {
     "name": "stdout",
     "output_type": "stream",
     "text": [
      "-q1*(w + 5) + q1*(-q1 - q2 + 50)\n"
     ]
    }
   ],
   "source": [
    "# Definer total profittfunksjonen for hvert av de to bakeriene\n",
    "def pi1(q1, q2):\n",
    "    return P(q1, q2) * q1 - C1(q1)\n",
    "def pi2(q1, q2):\n",
    "    return P(q1, q2) * q2 - C2(q2)\n",
    "\n",
    "print (pi1(q1, q2))"
   ]
  },
  {
   "cell_type": "code",
   "execution_count": 12,
   "id": "a06ae7e7-ed65-4db8-89a3-665e3bae4755",
   "metadata": {},
   "outputs": [
    {
     "name": "stdout",
     "output_type": "stream",
     "text": [
      "-q2/2 - w/2 + 22.5\n"
     ]
    }
   ],
   "source": [
    "#Definerer marginalinntekter og reaksjonsfunksjoner 1\n",
    "MR1 = sp.diff(P(q1, q2)*q1, q1)\n",
    "sol_RF1 = sp.solve(sp.Eq(MR1,MRI),q1)[0]\n",
    "\n",
    "def RF1(q2, w):\n",
    "    reaction = eval(str(sol_RF1))\n",
    "    return reaction\n",
    "\n",
    "print (RF1(q2, w))"
   ]
  },
  {
   "cell_type": "code",
   "execution_count": 13,
   "id": "283c35af-3e35-4744-b64b-728c92042bb4",
   "metadata": {},
   "outputs": [
    {
     "name": "stdout",
     "output_type": "stream",
     "text": [
      "-q1/2 - w/2 + 22.5\n"
     ]
    }
   ],
   "source": [
    "#Definerer marginalinntekter og reaksjonsfunksjoner 2\n",
    "MR2 = sp.diff(P(q1, q2)*q2, q2)\n",
    "sol_RF2 = sp.solve(sp.Eq(MR2,MRI),q2)[0]\n",
    "\n",
    "def RF2(q1, w):\n",
    "    reaction = eval(str(sol_RF2))\n",
    "    return reaction\n",
    "\n",
    "print (RF2(q1, w))"
   ]
  },
  {
   "cell_type": "code",
   "execution_count": 14,
   "id": "9835f938-bb74-4c2d-b5de-c6b49ff54c84",
   "metadata": {
    "tags": []
   },
   "outputs": [
    {
     "name": "stdout",
     "output_type": "stream",
     "text": [
      "15.0 - 0.333333333333333*w\n",
      "15.0 - 0.333333333333333*w\n"
     ]
    }
   ],
   "source": [
    "#Setter RF1 inn i RF2 og finner q1 og q1 for trinn 2:\n",
    "\n",
    "q2_R = sp.solve(\n",
    "    sp.Eq( \n",
    "        RF2(RF1(q2, w), w)\n",
    "        , q2)\n",
    "    , q2)[0]\n",
    "\n",
    "q1_R = RF1(q2_R, w)\n",
    "\n",
    "QR = q2_R + q1_R\n",
    "PR = P(q1_R, q2_R)\n",
    "\n",
    "print (q2_R)\n",
    "print (q1_R)\n"
   ]
  },
  {
   "cell_type": "code",
   "execution_count": 15,
   "id": "9c167790-89cc-4336-883b-1b6676e23b6b",
   "metadata": {},
   "outputs": [
    {
     "name": "stdout",
     "output_type": "stream",
     "text": [
      "45.0 - 1.5*Q\n"
     ]
    }
   ],
   "source": [
    "# Trinn 1:\n",
    "\n",
    "#Invers etterspørsel\n",
    "\n",
    "w_sol = sp.solve( sp.Eq(QR, Q) , w)[0]\n",
    "\n",
    "def w_inv_demand(Q):\n",
    "    demand = eval(str(w_sol))\n",
    "    return demand\n",
    "\n",
    "print (w_inv_demand(Q))\n"
   ]
  },
  {
   "cell_type": "code",
   "execution_count": 16,
   "id": "690afb57-887c-4f1e-80a6-0f94e47a37a6",
   "metadata": {},
   "outputs": [
    {
     "name": "stdout",
     "output_type": "stream",
     "text": [
      "13.3333333333333\n",
      "25.0000000000000\n",
      "6.66666666666667\n",
      "6.66666666666667\n",
      "36.6666666666667\n"
     ]
    }
   ],
   "source": [
    "# finner optimalt kvantum Q, pris fra møllene til bakeriene w, kvantum til hvert av bakeriene og pris fra bakerien til kundene\n",
    "MR_M = sp.diff(w_inv_demand(Q)*Q, Q)\n",
    "opt_Q = sp.solve( sp.Eq(MR_M, c) , Q)[0]\n",
    "opt_w = w_inv_demand(opt_Q)\n",
    "q1_sol  = q1_R.subs({w:w_inv_demand(opt_Q)})\n",
    "q2_sol  = q2_R.subs({w:w_inv_demand(opt_Q)})\n",
    "\n",
    "\n",
    "print(opt_Q)\n",
    "print(opt_w)\n",
    "print(q1_sol)\n",
    "print(q2_sol)\n",
    "print(P(q1_sol, q2_sol))"
   ]
  },
  {
   "cell_type": "code",
   "execution_count": 17,
   "id": "a0ea6ca0-9e26-42b7-afcc-7085e0bfea5b",
   "metadata": {},
   "outputs": [
    {
     "name": "stdout",
     "output_type": "stream",
     "text": [
      "44.4444444444445\n",
      "44.4444444444445\n"
     ]
    }
   ],
   "source": [
    "# profitt til Bakehuset og Bakst \n",
    "print(pi1(q1_sol, q2_sol).subs({w:opt_w}))\n",
    "print(pi2(q1_sol, q2_sol).subs({w:opt_w}))\n"
   ]
  },
  {
   "cell_type": "markdown",
   "id": "bdf7e9bb-98fc-4733-babb-c2b5e5644fb1",
   "metadata": {},
   "source": [
    "II) Vi ser så på markedstilpasningen ved en fusjon mellom Bakst og Bakehuset; hvor vi da får monopol både i oppstrøms- og nedstrømsmarkedet"
   ]
  },
  {
   "cell_type": "code",
   "execution_count": 75,
   "id": "c8735afb-4ac5-4d0f-ad60-ade8bec56320",
   "metadata": {},
   "outputs": [
    {
     "name": "stdout",
     "output_type": "stream",
     "text": [
      "10\n",
      "25\n",
      "36.6666666666667\n",
      "200\n",
      "100\n"
     ]
    }
   ],
   "source": [
    "# Monopolist-tilpasning i nedstrømsmarkedet\n",
    "\n",
    "# Trinn 2:\n",
    "\n",
    "def P_M(Q): \n",
    "    return P(Q,0)\n",
    "\n",
    "def pi_M(w, Q): \n",
    "    return w*Q - c*Q\n",
    "\n",
    "def pi_R(Q): \n",
    "    return P_M(Q)*Q - (w+k)*Q\n",
    "\n",
    "MR_M = sp.diff(P_M(Q)*Q, Q)\n",
    "\n",
    "Q_M = sp.solve( sp.Eq(MR_M, w+k) , Q)[0]\n",
    "\n",
    "#Invers etterspørsel\n",
    "w_sol = sp.solve( sp.Eq(Q_M, Q) , w)[0]\n",
    "\n",
    "def w_inv_demand(Q):\n",
    "    demand = eval(str(w_sol))\n",
    "    return demand\n",
    "\n",
    "#Marginalinntekt\n",
    "MR_M = sp.diff(w_inv_demand(Q)*Q, Q)\n",
    "opt_Q = sp.solve( sp.Eq(MR_M, c) , Q)[0]\n",
    "opt_P = w_inv_demand(opt_Q)\n",
    "\n",
    "print(opt_Q)\n",
    "print(opt_P)\n",
    "print(P(q1_sol, q2_sol))\n",
    "print(pi_M(w_inv_demand(opt_Q), opt_Q))\n",
    "print(pi_R(opt_Q).subs({w:opt_P}))\n"
   ]
  },
  {
   "cell_type": "code",
   "execution_count": 76,
   "id": "f3433888-811a-4fc5-b682-e37c382615a7",
   "metadata": {},
   "outputs": [
    {
     "name": "stdout",
     "output_type": "stream",
     "text": [
      "40\n"
     ]
    }
   ],
   "source": [
    "# optimal pris for bakevarer fra de fusjonerte bakeriene \n",
    "def P_Q(Q):\n",
    "    return 50 - Q\n",
    "print(P_Q(Q_M).subs({w:opt_P}))"
   ]
  },
  {
   "cell_type": "markdown",
   "id": "e21211fa-ba30-4615-9aae-cb1f2ec427f7",
   "metadata": {},
   "source": [
    "III) vi ser nå på fujon mellom Bakehuset og Bakst"
   ]
  },
  {
   "cell_type": "code",
   "execution_count": 62,
   "id": "50c796c0-bcbc-40dc-ae63-d93c80275531",
   "metadata": {},
   "outputs": [
    {
     "name": "stdout",
     "output_type": "stream",
     "text": [
      "20 - qR/2\n"
     ]
    }
   ],
   "source": [
    "# Fusjon med M og RI\n",
    "# Trinn 2:\n",
    "\n",
    "#Marginalkostnader:\n",
    "\n",
    "c_RM = c+k\n",
    "c_R = w + k\n",
    "\n",
    "qRM, qR, w, Q = sp.symbols('qRM qR w Q')\n",
    "\n",
    "def pi_RM(qRM, qR): \n",
    "    return P(qRM, qR)*qRM - c_RM*qRM\n",
    "\n",
    "#Definerer marginalinntekter og reaksjonsfunksjoner 1\n",
    "MR_RM = sp.diff(P(qRM, qR)*qRM, qRM)\n",
    "sol_RF_RM = sp.solve(sp.Eq(MR_RM,c+k),qRM)[0]\n",
    "\n",
    "def RF_MR(qR):\n",
    "    reaction = eval(str(sol_RF_RM))\n",
    "    return reaction\n",
    "\n",
    "print(RF_MR(qR) )"
   ]
  },
  {
   "cell_type": "code",
   "execution_count": 65,
   "id": "a0a3db78-50d2-4b08-8c00-b7449cfae34d",
   "metadata": {},
   "outputs": [
    {
     "name": "stdout",
     "output_type": "stream",
     "text": [
      "-qRM/2 - w/2 + 22.5\n"
     ]
    }
   ],
   "source": [
    "#Definerer marginalinntekter og reaksjonsfunksjoner 2\n",
    "MR_R = sp.diff(P(qRM, qR)*qR, qR)\n",
    "sol_RF_R = sp.solve(sp.Eq(MR_R,w+k),qR)[0]\n",
    "\n",
    "def RF_R(qRM):\n",
    "    reaction = eval(str(sol_RF_R))\n",
    "    return reaction\n",
    "\n",
    "print(RF_R(qRM) )\n"
   ]
  },
  {
   "cell_type": "code",
   "execution_count": 78,
   "id": "5c0ea380-a1df-4d5c-b323-93fb50676bb3",
   "metadata": {},
   "outputs": [
    {
     "name": "stdout",
     "output_type": "stream",
     "text": [
      "16.6666666666667 - 0.666666666666667*w\n",
      "0.333333333333333*w + 11.6666666666667\n"
     ]
    }
   ],
   "source": [
    "#Setter RF_MR inn i RF_R og finner kvantum til Bakst og den fusjonerte bedriften (Mølleren og Balhuset) på tinn 2\n",
    "\n",
    "qR_R = sp.solve(\n",
    "    sp.Eq( \n",
    "        RF_R(RF_MR(qR))\n",
    "        , qR)\n",
    "    , qR)[0]\n",
    "\n",
    "qRM_R = RF_MR(qR_R)\n",
    "\n",
    "print(qR_R)\n",
    "print(qRM_R)"
   ]
  },
  {
   "cell_type": "code",
   "execution_count": 71,
   "id": "cbb1a1ec-455f-4401-98e6-902e5e295770",
   "metadata": {},
   "outputs": [
    {
     "name": "stdout",
     "output_type": "stream",
     "text": [
      "25.0000000000000\n",
      "20.0000000000000\n",
      "30.0000000000000\n",
      "400.000000000000\n"
     ]
    }
   ],
   "source": [
    "# Til en pris w = 25 vil ikke Bakst finne det lønnsomt å være i markedt, dermed vil den fusjonerte bedriften opptre som en monopolist i markedet.\n",
    "\n",
    "qRM_opt = qRM_R.subs({w:w_MR})\n",
    "qRM_opt = qRM_R.subs({w:w_MR})\n",
    "\n",
    "print(w_MR)\n",
    "print(qRM_opt)\n",
    "print(P(qRM_opt, 0))\n",
    "print(pi_RM(qRM_opt,0))"
   ]
  },
  {
   "cell_type": "markdown",
   "id": "415dd35c-3c85-455e-b8af-670195db7536",
   "metadata": {},
   "source": [
    "Det mest lønnsomme for Bakehuset er å velge fusjon med leverandørbedriften"
   ]
  },
  {
   "cell_type": "code",
   "execution_count": null,
   "id": "87755307-0b49-4c39-93cd-8ecfbe43f55c",
   "metadata": {},
   "outputs": [],
   "source": []
  }
 ],
 "metadata": {
  "kernelspec": {
   "display_name": "Python 3 (ipykernel)",
   "language": "python",
   "name": "python3"
  },
  "language_info": {
   "codemirror_mode": {
    "name": "ipython",
    "version": 3
   },
   "file_extension": ".py",
   "mimetype": "text/x-python",
   "name": "python",
   "nbconvert_exporter": "python",
   "pygments_lexer": "ipython3",
   "version": "3.9.15"
  }
 },
 "nbformat": 4,
 "nbformat_minor": 5
}
