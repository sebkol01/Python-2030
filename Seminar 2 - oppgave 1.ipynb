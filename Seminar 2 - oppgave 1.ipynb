{
 "cells": [
  {
   "cell_type": "markdown",
   "id": "0a09c3ec-59aa-48e2-a95d-72cee85054da",
   "metadata": {},
   "source": [
    "## Seminar 2 - Monopol og prisdiskriminering\n",
    "Oppgave 1: \n",
    "    \n",
    "Tide busselskap har vunnet busskontrakten i Tromsø og har dermed monopol i dette markedet. Ledelsen i selskapet har gjennomført en markedsundersøkelse som viser at kundene kan deles opp i to grupper: studenter og andre. For studentene er etterspørsel etter bussreiser gitt ved qs= 100 - ps , og for den andre gruppen er etterspørselen qa= 75 - 0,5pa. Grensekostnaden til busselskapet av å ta med en ekstra passasjer er konstant og lik 5. Selskapet vurderer to strategier for prisfastsettelse: uniform prising hvor alle passasjerer betaler samme billettpris og diskriminerende prising hvor alle studenter betaler en pris og andre passasjerer en annen. Hvilket råd ville du gi busselskapet i dette eksempelet? Hvilke betingelser må være oppfylt for å ta den diskriminerende strategien i bruk?"
   ]
  },
  {
   "cell_type": "code",
   "execution_count": 1,
   "id": "ef66ef61-2ffb-488a-8f72-08b3e8729f2e",
   "metadata": {},
   "outputs": [],
   "source": [
    "import sympy as sp\n",
    "import numpy as np\n",
    "from matplotlib import pyplot as plt"
   ]
  },
  {
   "cell_type": "markdown",
   "id": "e9060fbe-bf1e-45de-b989-ebcb2d8288f2",
   "metadata": {},
   "source": [
    "Aggregert etterspørsel qa + qs => Q = 175 - 1.5*P.  Invers etterspørsel blir da: P = 175/1.5 - Q/1.5 = 116.67 - 2/3*Q \n",
    "    "
   ]
  },
  {
   "cell_type": "code",
   "execution_count": 13,
   "id": "cc04787f-5866-448a-8b08-b3c3cea5b24e",
   "metadata": {},
   "outputs": [],
   "source": [
    "def demand(Q):\n",
    "    return 116.67-(2/3)*Q"
   ]
  },
  {
   "cell_type": "code",
   "execution_count": 6,
   "id": "d5e9c08c-99da-4bec-abae-b4afcb566dcc",
   "metadata": {},
   "outputs": [],
   "source": [
    "def marginalrevenue(Q):\n",
    "    return 116.67-(4/3)*Q"
   ]
  },
  {
   "cell_type": "code",
   "execution_count": 4,
   "id": "fb2b5813-d347-4de0-ab31-1170e9a9d603",
   "metadata": {},
   "outputs": [],
   "source": [
    "def marginalcost(Q):\n",
    "    return 5"
   ]
  },
  {
   "cell_type": "code",
   "execution_count": 7,
   "id": "1fdbd210-f174-417a-8a37-4fb8c9749dd8",
   "metadata": {},
   "outputs": [
    {
     "data": {
      "text/latex": [
       "$\\displaystyle 116.67 - 1.33333333333333 Q = 5$"
      ],
      "text/plain": [
       "Eq(116.67 - 1.33333333333333*Q, 5)"
      ]
     },
     "execution_count": 7,
     "metadata": {},
     "output_type": "execute_result"
    }
   ],
   "source": [
    "Q=sp.symbols('Q', real=True, positive=True)\n",
    "equ=sp.Eq(marginalrevenue(Q),marginalcost(Q))\n",
    "equ"
   ]
  },
  {
   "cell_type": "markdown",
   "id": "e4032411-e1b0-4b82-8eab-91715149b67f",
   "metadata": {},
   "source": [
    "### Optimal tilpasning ved linear prising:"
   ]
  },
  {
   "cell_type": "code",
   "execution_count": 8,
   "id": "9f3de72e-afc6-4691-9a9e-fc749ce095d8",
   "metadata": {},
   "outputs": [
    {
     "data": {
      "text/latex": [
       "$\\displaystyle 83.7525$"
      ],
      "text/plain": [
       "83.7525000000000"
      ]
     },
     "execution_count": 8,
     "metadata": {},
     "output_type": "execute_result"
    }
   ],
   "source": [
    "Q_equ=sp.solve(equ,Q)[0]\n",
    "Q_equ"
   ]
  },
  {
   "cell_type": "code",
   "execution_count": 14,
   "id": "53231036-eb1f-4afa-8065-01d6dc3e80ca",
   "metadata": {},
   "outputs": [
    {
     "data": {
      "text/latex": [
       "$\\displaystyle 60.835$"
      ],
      "text/plain": [
       "60.8350000000000"
      ]
     },
     "execution_count": 14,
     "metadata": {},
     "output_type": "execute_result"
    }
   ],
   "source": [
    "p_eq=demand(Q_equ)\n",
    "p_eq"
   ]
  },
  {
   "cell_type": "code",
   "execution_count": 10,
   "id": "66765191-68c7-4bbe-a781-09749c755a7e",
   "metadata": {},
   "outputs": [
    {
     "name": "stdout",
     "output_type": "stream",
     "text": [
      "4620.20666250000\n"
     ]
    }
   ],
   "source": [
    "# Profitt\n",
    "def profitt(Q):\n",
    "    return (p_eq-marginalcost(Q))*Q_equ\n",
    "print (profitt(Q_equ))"
   ]
  },
  {
   "cell_type": "code",
   "execution_count": 15,
   "id": "08f14b57-06fc-42c7-8261-623cbb777a2e",
   "metadata": {},
   "outputs": [
    {
     "name": "stdout",
     "output_type": "stream",
     "text": [
      "39.165\n"
     ]
    }
   ],
   "source": [
    "# Antall studenter som tar buss - demand qs = 100 -Ps\n",
    "def Q(P):\n",
    "    return 100-P\n",
    "print(Q(60.835))"
   ]
  },
  {
   "cell_type": "code",
   "execution_count": 16,
   "id": "65366984-2864-42ca-a4d8-35e16ec3190c",
   "metadata": {},
   "outputs": [
    {
     "name": "stdout",
     "output_type": "stream",
     "text": [
      "44.582499999999996\n"
     ]
    }
   ],
   "source": [
    "# Antall øvrige passasjerer som tar buss - demand qa = 75 -0.5*Pa\n",
    "def Q(P):\n",
    "    return 75 -0.5*P\n",
    "print(Q(60.835))"
   ]
  },
  {
   "cell_type": "code",
   "execution_count": 19,
   "id": "b12d9b49-61c3-40be-a8e8-90460f55beba",
   "metadata": {},
   "outputs": [
    {
     "name": "stdout",
     "output_type": "stream",
     "text": [
      "21.67\n"
     ]
    }
   ],
   "source": [
    "# Studenter: Demand P = 100 -qs. Marginalinntekt = 100 -2*qs\n",
    "def MR(Q):\n",
    "    return 100-2*Q\n",
    "print(MR(39.165))"
   ]
  },
  {
   "cell_type": "code",
   "execution_count": 20,
   "id": "db822757-3523-4a9f-a2e1-4ac7a85769cf",
   "metadata": {},
   "outputs": [
    {
     "name": "stdout",
     "output_type": "stream",
     "text": [
      "-28.328000000000003\n"
     ]
    }
   ],
   "source": [
    "# Demand P = 75/0.5-qa/0.5 = 150 -2*qa. Marginalinntekt øvrige passasjerer = 150 -4*qa\n",
    "def MR(Q):\n",
    "    return 150-4*Q\n",
    "print(MR(44.582))"
   ]
  },
  {
   "cell_type": "markdown",
   "id": "9e66e9bb-8e81-44b0-920e-f973c1bfbf04",
   "metadata": {},
   "source": [
    "## Prisdiskriminering\n",
    "Optimal pris og mengde for studenter"
   ]
  },
  {
   "cell_type": "code",
   "execution_count": 22,
   "id": "3c30e1d1-a5b6-4121-a1b7-72aaa83890c9",
   "metadata": {},
   "outputs": [],
   "source": [
    "# Studenter - demand P = 100-qs\n",
    "def demand(qs):\n",
    "    return 100-qs"
   ]
  },
  {
   "cell_type": "code",
   "execution_count": 24,
   "id": "fea6c499-2995-4bcc-8e37-6cb73ce7db8f",
   "metadata": {},
   "outputs": [],
   "source": [
    "# Marginalinntekt studenter - MR = 100 -2*qs\n",
    "def marginalrevenue(qs):\n",
    "    return 100 -2*qs"
   ]
  },
  {
   "cell_type": "code",
   "execution_count": 26,
   "id": "cd27e35f-75cb-4274-991e-c99fa35f2b71",
   "metadata": {},
   "outputs": [],
   "source": [
    "def marginalcost(qs):\n",
    "    return 5"
   ]
  },
  {
   "cell_type": "code",
   "execution_count": 25,
   "id": "d522da4b-b044-4938-91fa-acb2e35b137e",
   "metadata": {},
   "outputs": [
    {
     "data": {
      "text/latex": [
       "$\\displaystyle 100 - 2 qs = 5$"
      ],
      "text/plain": [
       "Eq(100 - 2*qs, 5)"
      ]
     },
     "execution_count": 25,
     "metadata": {},
     "output_type": "execute_result"
    }
   ],
   "source": [
    "qs=sp.symbols('qs', real=True, positive=True)\n",
    "equ=sp.Eq(marginalrevenue(qs),marginalcost(qs))\n",
    "equ"
   ]
  },
  {
   "cell_type": "code",
   "execution_count": 28,
   "id": "9797d848-6812-4749-8a18-9cb09ce59a98",
   "metadata": {},
   "outputs": [
    {
     "data": {
      "text/latex": [
       "$\\displaystyle \\frac{95}{2}$"
      ],
      "text/plain": [
       "95/2"
      ]
     },
     "execution_count": 28,
     "metadata": {},
     "output_type": "execute_result"
    }
   ],
   "source": [
    "# optimal antall reiser for studenter:\n",
    "qs_equ=sp.solve(equ,qs)[0]\n",
    "qs_equ"
   ]
  },
  {
   "cell_type": "code",
   "execution_count": 29,
   "id": "6c65d7c2-6cba-4898-940c-6299d6ffd9b1",
   "metadata": {},
   "outputs": [
    {
     "data": {
      "text/latex": [
       "$\\displaystyle \\frac{105}{2}$"
      ],
      "text/plain": [
       "105/2"
      ]
     },
     "execution_count": 29,
     "metadata": {},
     "output_type": "execute_result"
    }
   ],
   "source": [
    "# optimal pris for studenter:\n",
    "ps_eq=demand(qs_equ)\n",
    "ps_eq"
   ]
  },
  {
   "cell_type": "code",
   "execution_count": 30,
   "id": "1974f173-2d24-404d-82a8-7b91655dda8d",
   "metadata": {},
   "outputs": [
    {
     "name": "stdout",
     "output_type": "stream",
     "text": [
      "2256.25\n"
     ]
    }
   ],
   "source": [
    "# Profitt studenter:\n",
    "def profitt(qs):\n",
    "    return (52.5-5)*qs\n",
    "print (profitt(47.5))"
   ]
  },
  {
   "cell_type": "markdown",
   "id": "6adfbfab-e41f-4dad-bf39-a267287377f4",
   "metadata": {},
   "source": [
    "Optimal pris og mengde for øvrige passasjerer"
   ]
  },
  {
   "cell_type": "code",
   "execution_count": 31,
   "id": "d7968ec4-ec2d-4f42-b8f8-824e0829d96e",
   "metadata": {},
   "outputs": [],
   "source": [
    "# Øvrige passasjerer - demand P = 150-2*qa\n",
    "def demand(qa):\n",
    "    return 150-2*qa"
   ]
  },
  {
   "cell_type": "code",
   "execution_count": 34,
   "id": "ef4040f7-3425-4a91-916d-519f7d2fbdb1",
   "metadata": {},
   "outputs": [],
   "source": [
    "# Marginalinntekt øvrige passasjerer - MR = 150 -4*qa\n",
    "def marginalrevenue(qa):\n",
    "    return 150 -4*qa"
   ]
  },
  {
   "cell_type": "code",
   "execution_count": 32,
   "id": "3ef1dc55-4527-4e2e-9612-eba50c1b6247",
   "metadata": {},
   "outputs": [],
   "source": [
    "def marginalcost(qa):\n",
    "    return 5"
   ]
  },
  {
   "cell_type": "code",
   "execution_count": 35,
   "id": "cfe8166b-a4af-4859-b050-962af0a9ec7f",
   "metadata": {},
   "outputs": [
    {
     "data": {
      "text/latex": [
       "$\\displaystyle 150 - 4 qa = 5$"
      ],
      "text/plain": [
       "Eq(150 - 4*qa, 5)"
      ]
     },
     "execution_count": 35,
     "metadata": {},
     "output_type": "execute_result"
    }
   ],
   "source": [
    "qa=sp.symbols('qa', real=True, positive=True)\n",
    "equ=sp.Eq(marginalrevenue(qa),marginalcost(qa))\n",
    "equ"
   ]
  },
  {
   "cell_type": "code",
   "execution_count": 36,
   "id": "d40073e1-f3d5-40a3-bf76-86b0814d3267",
   "metadata": {},
   "outputs": [
    {
     "data": {
      "text/latex": [
       "$\\displaystyle \\frac{145}{4}$"
      ],
      "text/plain": [
       "145/4"
      ]
     },
     "execution_count": 36,
     "metadata": {},
     "output_type": "execute_result"
    }
   ],
   "source": [
    "# optimal antall reiser for øvrige passasjerer:\n",
    "qa_equ=sp.solve(equ,qa)[0]\n",
    "qa_equ"
   ]
  },
  {
   "cell_type": "code",
   "execution_count": 37,
   "id": "5f7cee26-3784-4331-89d9-05a93522deff",
   "metadata": {},
   "outputs": [
    {
     "data": {
      "text/latex": [
       "$\\displaystyle \\frac{155}{2}$"
      ],
      "text/plain": [
       "155/2"
      ]
     },
     "execution_count": 37,
     "metadata": {},
     "output_type": "execute_result"
    }
   ],
   "source": [
    "# optimal pris for øvrige passasjerer:\n",
    "pa_eq=demand(qa_equ)\n",
    "pa_eq"
   ]
  },
  {
   "cell_type": "code",
   "execution_count": 40,
   "id": "73fcafd3-c696-4aaf-8976-5626e0718b60",
   "metadata": {},
   "outputs": [
    {
     "name": "stdout",
     "output_type": "stream",
     "text": [
      "2628.125\n"
     ]
    }
   ],
   "source": [
    "# Profitt øvrige passasjerer:\n",
    "def profitt(qa):\n",
    "    return (77.5-5)*qa\n",
    "print (profitt(36.25))"
   ]
  },
  {
   "cell_type": "code",
   "execution_count": 41,
   "id": "46aee0a5-4a3c-4f79-98aa-f5ce692194fa",
   "metadata": {},
   "outputs": [
    {
     "name": "stdout",
     "output_type": "stream",
     "text": [
      "4884.375\n"
     ]
    }
   ],
   "source": [
    "# total profitt\n",
    "print (2256.25+2628.125)"
   ]
  },
  {
   "cell_type": "code",
   "execution_count": 42,
   "id": "70d6053c-c429-48d5-81c6-b09517ab835f",
   "metadata": {},
   "outputs": [
    {
     "name": "stdout",
     "output_type": "stream",
     "text": [
      "264.1750000000002\n"
     ]
    }
   ],
   "source": [
    "# ekstra profitt som følge av prisdiskriminering\n",
    "print (4884.375-4620.20)"
   ]
  },
  {
   "cell_type": "code",
   "execution_count": null,
   "id": "a687f3a4-edc0-41bf-8a23-07a44e909d69",
   "metadata": {},
   "outputs": [],
   "source": []
  }
 ],
 "metadata": {
  "kernelspec": {
   "display_name": "Python 3 (ipykernel)",
   "language": "python",
   "name": "python3"
  },
  "language_info": {
   "codemirror_mode": {
    "name": "ipython",
    "version": 3
   },
   "file_extension": ".py",
   "mimetype": "text/x-python",
   "name": "python",
   "nbconvert_exporter": "python",
   "pygments_lexer": "ipython3",
   "version": "3.9.15"
  }
 },
 "nbformat": 4,
 "nbformat_minor": 5
}
