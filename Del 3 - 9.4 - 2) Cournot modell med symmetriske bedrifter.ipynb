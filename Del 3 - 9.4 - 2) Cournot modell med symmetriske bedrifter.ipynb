{
 "cells": [
  {
   "cell_type": "markdown",
   "id": "afd41721-4319-40cd-9ab4-78c09b3aca9c",
   "metadata": {},
   "source": [
    "# Sok-2030 Næringsøkonomi og konkuransestrategi\n",
    "## Del 3 Oligopolmodeller\n",
    "### Cournot modell med symmetriske bedrifter\n",
    "\n",
    "Nummerisk eksempel: \n",
    "    Invers etterspørsel:P = 120 -20Q og marginalkostnad på 20\n"
   ]
  },
  {
   "cell_type": "code",
   "execution_count": 2,
   "id": "38636316-468e-4088-a00f-9b025ba0c9a9",
   "metadata": {},
   "outputs": [],
   "source": [
    "import sympy as sp\n",
    "import numpy as np\n",
    "from matplotlib import pyplot as plt"
   ]
  },
  {
   "cell_type": "code",
   "execution_count": 3,
   "id": "5a4fd558-32d8-4b7b-a610-45910cce91c7",
   "metadata": {},
   "outputs": [],
   "source": [
    "def demand(q):\n",
    "    return (120-20*q1-20*q2)"
   ]
  },
  {
   "cell_type": "code",
   "execution_count": 4,
   "id": "84394a47-3d0a-4730-8e61-3bbccb282735",
   "metadata": {},
   "outputs": [],
   "source": [
    "def marginalrevenue_1(q1):\n",
    "    return (120-40*q1-20*q2)"
   ]
  },
  {
   "cell_type": "code",
   "execution_count": 7,
   "id": "9c1e06bd-8eae-4ded-a9d9-df3fd648cea1",
   "metadata": {},
   "outputs": [],
   "source": [
    "def marginalrevenue_2(q2):\n",
    "    return (120-40*q2-20*q1)"
   ]
  },
  {
   "cell_type": "markdown",
   "id": "cd6babc8-945a-42d5-b4f5-23229b70fa60",
   "metadata": {},
   "source": [
    "Optimal tilpasning der MR = MC"
   ]
  },
  {
   "cell_type": "code",
   "execution_count": 13,
   "id": "e5c5363b-36f6-42e1-874f-6941080e7657",
   "metadata": {},
   "outputs": [
    {
     "data": {
      "text/latex": [
       "$\\displaystyle - 20 q_{1} - 40 q_{2} + 120 = 20$"
      ],
      "text/plain": [
       "Eq(-20*q1 - 40*q2 + 120, 20)"
      ]
     },
     "execution_count": 13,
     "metadata": {},
     "output_type": "execute_result"
    }
   ],
   "source": [
    "q2=sp.symbols('q2', real=True, positive=True)\n",
    "q1=sp.symbols('q1', real=True, positive=True)\n",
    "equ=sp.Eq(marginalrevenue_2(q2),20)\n",
    "equ"
   ]
  },
  {
   "cell_type": "code",
   "execution_count": 14,
   "id": "86e76339-c97b-427d-a21f-812f93dbc5d0",
   "metadata": {},
   "outputs": [
    {
     "data": {
      "text/latex": [
       "$\\displaystyle \\frac{5}{2} - \\frac{q_{1}}{2}$"
      ],
      "text/plain": [
       "5/2 - q1/2"
      ]
     },
     "execution_count": 14,
     "metadata": {},
     "output_type": "execute_result"
    }
   ],
   "source": [
    "#reaksjonsfunksjon til bedrift 2\n",
    "q2_equ=sp.solve(equ,q2)[0]\n",
    "q2_equ"
   ]
  },
  {
   "cell_type": "code",
   "execution_count": 15,
   "id": "dc99664c-206e-4af5-b42b-02f8c1eb0045",
   "metadata": {},
   "outputs": [
    {
     "data": {
      "text/latex": [
       "$\\displaystyle - 40 q_{1} - 20 q_{2} + 120 = 20$"
      ],
      "text/plain": [
       "Eq(-40*q1 - 20*q2 + 120, 20)"
      ]
     },
     "execution_count": 15,
     "metadata": {},
     "output_type": "execute_result"
    }
   ],
   "source": [
    "q1=sp.symbols('q1', real=True, positive=True)\n",
    "equ=sp.Eq(marginalrevenue_1(q1),20)\n",
    "equ"
   ]
  },
  {
   "cell_type": "code",
   "execution_count": 16,
   "id": "5c91736e-4d91-4a55-aa47-03f57c20af4f",
   "metadata": {},
   "outputs": [
    {
     "data": {
      "text/latex": [
       "$\\displaystyle \\frac{5}{2} - \\frac{q_{2}}{2}$"
      ],
      "text/plain": [
       "5/2 - q2/2"
      ]
     },
     "execution_count": 16,
     "metadata": {},
     "output_type": "execute_result"
    }
   ],
   "source": [
    "#reaksjonsfunksjon til bedrift 1\n",
    "q1_equ=sp.solve(equ,q1)[0]\n",
    "q1_equ"
   ]
  },
  {
   "cell_type": "markdown",
   "id": "bbae4da2-57f9-4087-aec0-e23ff9033fbe",
   "metadata": {},
   "source": [
    "## Optimal kvantum og pris for bedriftene er:"
   ]
  },
  {
   "cell_type": "code",
   "execution_count": 35,
   "id": "3b71bae2-434b-457c-9f42-da1043d7ec63",
   "metadata": {},
   "outputs": [],
   "source": [
    "# finner uttrykk for q1 og q2\n",
    "q1_eq = sp.solve(sp.Eq(marginalrevenue_1(q1), 20), q1)[0]\n",
    "q2_eq = sp.solve(sp.Eq(marginalrevenue_2(q2), 20), q2)[0]\n",
    "\n",
    "# setter uttrykk for q1 inn i q2\n",
    "q2_unresv_eq = q2_eq.subs(q1, q1_eq)"
   ]
  },
  {
   "cell_type": "code",
   "execution_count": 36,
   "id": "4de4bbf0-ab2e-4bd6-9ddd-88677d3e5926",
   "metadata": {},
   "outputs": [],
   "source": [
    "# setter uttrykk for q inn i q1\n",
    "q1_unresv_eq = q1_eq.subs(q2, q2_eq)"
   ]
  },
  {
   "cell_type": "code",
   "execution_count": 34,
   "id": "54b7c1cd-3b19-42e0-8c21-cabc6ea0dd7e",
   "metadata": {},
   "outputs": [
    {
     "data": {
      "text/latex": [
       "$\\displaystyle \\frac{5}{3}$"
      ],
      "text/plain": [
       "5/3"
      ]
     },
     "execution_count": 34,
     "metadata": {},
     "output_type": "execute_result"
    }
   ],
   "source": [
    "# Løser q2 og finner optimalt kvantum\n",
    "q2_equ=sp.solve(sp.Eq(q2_unresv_eq, q2), q2)[0]\n",
    "q2_equ"
   ]
  },
  {
   "cell_type": "code",
   "execution_count": 37,
   "id": "29a7db27-d4a9-4b66-a270-57de93b3e712",
   "metadata": {},
   "outputs": [
    {
     "data": {
      "text/latex": [
       "$\\displaystyle \\frac{5}{3}$"
      ],
      "text/plain": [
       "5/3"
      ]
     },
     "execution_count": 37,
     "metadata": {},
     "output_type": "execute_result"
    }
   ],
   "source": [
    "# Løser q2 og finner optimalt kvantum\n",
    "q1_equ=sp.solve(sp.Eq(q1_unresv_eq, q1), q1)[0]\n",
    "q1_equ"
   ]
  },
  {
   "cell_type": "markdown",
   "id": "0f89ecd9-8741-4b8f-a5b2-69fb9f312332",
   "metadata": {},
   "source": [
    "Markedspris:"
   ]
  },
  {
   "cell_type": "code",
   "execution_count": 40,
   "id": "0d600f9a-6133-4783-ac42-af9a2ddd0461",
   "metadata": {},
   "outputs": [
    {
     "name": "stdout",
     "output_type": "stream",
     "text": [
      "53.33333333333333\n"
     ]
    }
   ],
   "source": [
    "# Optimal pris\n",
    "print (120-20*(5/3+5/3))"
   ]
  },
  {
   "cell_type": "code",
   "execution_count": 48,
   "id": "9c5d6339-2146-4673-85f6-49c0160b332b",
   "metadata": {},
   "outputs": [
    {
     "data": {
      "text/latex": [
       "$\\displaystyle 55.55$"
      ],
      "text/plain": [
       "55.55"
      ]
     },
     "execution_count": 48,
     "metadata": {},
     "output_type": "execute_result"
    }
   ],
   "source": [
    "# Profitt for bedriftene:\n",
    "def profitt(q1):\n",
    "    return (53.33-20)*q2_equ\n",
    "\n",
    "round(profitt(q1),2)"
   ]
  }
 ],
 "metadata": {
  "kernelspec": {
   "display_name": "Python 3 (ipykernel)",
   "language": "python",
   "name": "python3"
  },
  "language_info": {
   "codemirror_mode": {
    "name": "ipython",
    "version": 3
   },
   "file_extension": ".py",
   "mimetype": "text/x-python",
   "name": "python",
   "nbconvert_exporter": "python",
   "pygments_lexer": "ipython3",
   "version": "3.9.15"
  }
 },
 "nbformat": 4,
 "nbformat_minor": 5
}
