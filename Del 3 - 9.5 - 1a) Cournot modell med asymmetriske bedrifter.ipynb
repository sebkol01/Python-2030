{
 "cells": [
  {
   "cell_type": "markdown",
   "id": "d26963c5-e891-4b03-892a-39fad33f3228",
   "metadata": {},
   "source": [
    "# Sok-2030 Næringsøkonomi og konkuransestrategi\n",
    "## Del 3 Oligopolmodeller\n",
    "### Cournot modell med asymmetriske bedrifter\n",
    "\n",
    "Invers etterspørsel: P = A - BQ, marginalkostnad til bedrift 1 er lik c1 og bedrift 2 har marginalkostnader på c2"
   ]
  },
  {
   "cell_type": "code",
   "execution_count": 1,
   "id": "6bb95b08-92dc-48fd-aa73-35c147298f3a",
   "metadata": {},
   "outputs": [],
   "source": [
    "import sympy as sp\n",
    "from sympy import *\n",
    "from matplotlib import pyplot as plt\n",
    "import numpy as np"
   ]
  },
  {
   "cell_type": "code",
   "execution_count": 2,
   "id": "d6794f27-8284-44da-b057-35db4b93a495",
   "metadata": {},
   "outputs": [],
   "source": [
    "q1, q2,c1,c2, A, B=symbols('q1 q2 c1 c2 A B')"
   ]
  },
  {
   "cell_type": "code",
   "execution_count": 3,
   "id": "2000f1a7-0482-4985-925b-e2e53828c9b1",
   "metadata": {},
   "outputs": [],
   "source": [
    "def demand_1(q1):\n",
    "           return (A-B*q1-B*q2)"
   ]
  },
  {
   "cell_type": "code",
   "execution_count": 4,
   "id": "b94aad85-b451-4444-9eb6-ffee52688896",
   "metadata": {},
   "outputs": [],
   "source": [
    "def demand_2(q2):\n",
    "           return (A-B*q1-B*q2)"
   ]
  },
  {
   "cell_type": "code",
   "execution_count": 5,
   "id": "422e16cc-aa94-424c-a6e8-da3103d8470c",
   "metadata": {},
   "outputs": [],
   "source": [
    "def marginalrevenue_1(q1):\n",
    "    return (A-2*B*q1-B*q2)"
   ]
  },
  {
   "cell_type": "code",
   "execution_count": 6,
   "id": "2e69584a-45e9-4c8a-8468-3541e0edb8f0",
   "metadata": {},
   "outputs": [],
   "source": [
    "def marginalrevenue_2(q2):\n",
    "    return (A-B*q1-2*B*q2)"
   ]
  },
  {
   "cell_type": "markdown",
   "id": "977403ca-f546-46b5-928c-ca94b2f33a30",
   "metadata": {},
   "source": [
    "Optimal tilpasning der MR = MC"
   ]
  },
  {
   "cell_type": "code",
   "execution_count": 7,
   "id": "22041cd9-6669-4df0-965e-9c387a824dd4",
   "metadata": {},
   "outputs": [
    {
     "data": {
      "text/latex": [
       "$\\displaystyle A - 2 B q_{1} - B q_{2} = c_{1}$"
      ],
      "text/plain": [
       "Eq(A - 2*B*q1 - B*q2, c1)"
      ]
     },
     "execution_count": 7,
     "metadata": {},
     "output_type": "execute_result"
    }
   ],
   "source": [
    "q1=sp.symbols('q1', real=True, positive=True)\n",
    "equ1=sp.Eq(marginalrevenue_1(q1),c1)\n",
    "equ1"
   ]
  },
  {
   "cell_type": "code",
   "execution_count": 8,
   "id": "eabdb65d-c6b8-4448-938b-8c6decd6dda1",
   "metadata": {},
   "outputs": [
    {
     "data": {
      "text/latex": [
       "$\\displaystyle A - B q_{1} - 2 B q_{2} = c_{2}$"
      ],
      "text/plain": [
       "Eq(A - B*q1 - 2*B*q2, c2)"
      ]
     },
     "execution_count": 8,
     "metadata": {},
     "output_type": "execute_result"
    }
   ],
   "source": [
    "q2=sp.symbols('q2', real=True, positive=True)\n",
    "equ2=sp.Eq(marginalrevenue_2(q2),c2)\n",
    "equ2"
   ]
  },
  {
   "cell_type": "code",
   "execution_count": 9,
   "id": "55b1d2de-d6b7-4f6e-8d49-df74f6d207c3",
   "metadata": {},
   "outputs": [
    {
     "data": {
      "text/latex": [
       "$\\displaystyle \\frac{A - B q_{2} - c_{1}}{2 B}$"
      ],
      "text/plain": [
       "(A - B*q2 - c1)/(2*B)"
      ]
     },
     "execution_count": 9,
     "metadata": {},
     "output_type": "execute_result"
    }
   ],
   "source": [
    "#reaksjonsfunksjon til bedrift 1\n",
    "q1_equ1=sp.solve(equ1,q1)[0]\n",
    "q1_equ1"
   ]
  },
  {
   "cell_type": "code",
   "execution_count": 10,
   "id": "ea5ade13-b353-4631-a141-ce7ffb5e3f9d",
   "metadata": {},
   "outputs": [
    {
     "data": {
      "text/latex": [
       "$\\displaystyle \\frac{A - B q_{1} - c_{2}}{2 B}$"
      ],
      "text/plain": [
       "(A - B*q1 - c2)/(2*B)"
      ]
     },
     "execution_count": 10,
     "metadata": {},
     "output_type": "execute_result"
    }
   ],
   "source": [
    "#reaksjonsfunksjon til bedrift 2\n",
    "q2_equ2=sp.solve(equ2,q2)[0]\n",
    "q2_equ2"
   ]
  },
  {
   "cell_type": "markdown",
   "id": "96320ce2-77b7-4c68-9f9b-e5a89e5a48dc",
   "metadata": {},
   "source": [
    "Nash-likevekten for denne asymmetriske Cournot-modellen finner vi der beste-respons for bedrifte 1 gitt valg av q2 også er beste-respons for bedrift 2:\n",
    "\n",
    "Optimalt kvantum til bedrift 2 finner vi ved å sette RF1 inn i RF2:\n",
    "\n",
    "RF2: q2 = [A-c2 -B(A-c1-Bq2)/2B]/2B    =>  4Bq2 = 2A-2c2-A+c1+Bq2"
   ]
  },
  {
   "cell_type": "code",
   "execution_count": 36,
   "id": "dff7a079-c57e-48c9-8314-67b3070e40e1",
   "metadata": {},
   "outputs": [
    {
     "data": {
      "text/latex": [
       "$\\displaystyle A - 3 B q_{2} + c_{1} - 2 c_{2}$"
      ],
      "text/plain": [
       "A - 3*B*q2 + c1 - 2*c2"
      ]
     },
     "execution_count": 36,
     "metadata": {},
     "output_type": "execute_result"
    }
   ],
   "source": [
    "def RF_2(A,B,c2,c1,q2):\n",
    "    return 2*A-2*c2-A+c1+B*q2 -4*B*q2\n",
    "RF_2(A,B,c2,c1,q2)"
   ]
  },
  {
   "cell_type": "markdown",
   "id": "28ee9e22-6551-4e3d-8a36-e9b6b4147478",
   "metadata": {},
   "source": [
    "Optimalt kvantum for bedrift 2 blir da:"
   ]
  },
  {
   "cell_type": "code",
   "execution_count": 43,
   "id": "b071eb2e-157b-4acc-ab22-280e1f62c15e",
   "metadata": {},
   "outputs": [
    {
     "data": {
      "text/latex": [
       "$\\displaystyle \\frac{A + c_{1} - 2 c_{2}}{3 B}$"
      ],
      "text/plain": [
       "(A + c1 - 2*c2)/(3*B)"
      ]
     },
     "execution_count": 43,
     "metadata": {},
     "output_type": "execute_result"
    }
   ],
   "source": [
    "RF_2equ=sp.solve(RF_2(A,B,c2,c1,q2),q2)[0]\n",
    "RF_2equ"
   ]
  },
  {
   "cell_type": "markdown",
   "id": "6901ef86-ba92-4552-b131-d0c1f83add0b",
   "metadata": {},
   "source": [
    "Tilsvarende for bedrift 1:"
   ]
  },
  {
   "cell_type": "code",
   "execution_count": 39,
   "id": "164895ce-48b4-43ca-aa90-b4cb64f2fbde",
   "metadata": {},
   "outputs": [
    {
     "data": {
      "text/latex": [
       "$\\displaystyle A - 3 B q_{1} - 2 c_{1} + c_{2}$"
      ],
      "text/plain": [
       "A - 3*B*q1 - 2*c1 + c2"
      ]
     },
     "execution_count": 39,
     "metadata": {},
     "output_type": "execute_result"
    }
   ],
   "source": [
    "def RF_1(A,B,c2,c1,q2):\n",
    "    return 2*A-2*c1-A+c2+B*q1 -4*B*q1\n",
    "RF_1(A,B,c2,c1,q2)"
   ]
  },
  {
   "cell_type": "markdown",
   "id": "6afeb7a6-aa0e-459b-accb-3fb825e67438",
   "metadata": {},
   "source": [
    "Optimalt kvantum for bedrift 1 blir da:"
   ]
  },
  {
   "cell_type": "code",
   "execution_count": 41,
   "id": "afa72730-6324-4df2-906c-e4d8ef07edbf",
   "metadata": {},
   "outputs": [
    {
     "data": {
      "text/latex": [
       "$\\displaystyle \\frac{A - 2 c_{1} + c_{2}}{3 B}$"
      ],
      "text/plain": [
       "(A - 2*c1 + c2)/(3*B)"
      ]
     },
     "execution_count": 41,
     "metadata": {},
     "output_type": "execute_result"
    }
   ],
   "source": [
    "RF_1equ=sp.solve(RF_1(A,B,c2,c1,q2),q1)[0]\n",
    "RF_1equ"
   ]
  }
 ],
 "metadata": {
  "kernelspec": {
   "display_name": "Python 3 (ipykernel)",
   "language": "python",
   "name": "python3"
  },
  "language_info": {
   "codemirror_mode": {
    "name": "ipython",
    "version": 3
   },
   "file_extension": ".py",
   "mimetype": "text/x-python",
   "name": "python",
   "nbconvert_exporter": "python",
   "pygments_lexer": "ipython3",
   "version": "3.9.15"
  }
 },
 "nbformat": 4,
 "nbformat_minor": 5
}
