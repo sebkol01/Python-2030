{
 "cells": [
  {
   "cell_type": "markdown",
   "id": "c844ba88-e3bd-4a45-b169-ad0671baaef2",
   "metadata": {},
   "source": [
    "# Sok-2030 Næringsøkonomi og konkuransestrategi\n",
    "## Del 4 Etableringsbarrierer og strategiske bindinger\n",
    "### Strategiske bindinger \n",
    "\n",
    "Vi bruker modell for stratgiske investeringer i kapasitet av Spence (1977) & Dixit (1980) til å løse praktisk problem 12.2"
   ]
  },
  {
   "cell_type": "code",
   "execution_count": 9,
   "id": "0615fe04-5b33-472d-ae0d-3e0fc0a1e732",
   "metadata": {},
   "outputs": [],
   "source": [
    "import sympy as sp\n",
    "from sympy import *\n",
    "import numpy as np\n",
    "from matplotlib import pyplot as plt"
   ]
  },
  {
   "cell_type": "markdown",
   "id": "98285027-c0f2-41cb-aa0d-aad71e2ceab3",
   "metadata": {},
   "source": [
    "Vi ser på en modell med to aktører; etablert bedrift (B1) og potensiell nykommer (B2)\n",
    "hvor vi har et dynamisk spill med \n",
    "Trinn 1: Etablert aktør velger å investere i kapasitet 𝐾\n",
    "Trinn 2: Nykommer observere 𝐾, og velger etablering eller ikke. Bedriftene velger optimalt nivå på kvantum og kapasitet"
   ]
  },
  {
   "cell_type": "markdown",
   "id": "d1e57f5c-d0c9-4e3f-80fe-b7982d854e4a",
   "metadata": {},
   "source": [
    "Eksempel: \n",
    "Invers etterspørselsfunksjon: 𝑃=120−(𝑞1+𝑞2)\n",
    "Kostnader: \n",
    "Faste kostnader: Fi = 200     i=1,2\n",
    "Enhetskostnad per enhet kapasitet: r = 30\n",
    "Marginalkostnader i produksjon for B1: w = 30          hvis 𝑞_1≤𝑘\n",
    "Marginalkostnader i produksjon for B1 : w +r = 60      hvis 𝑞_1≥𝑘\n",
    "Marginalkostnader i produksjon for B2 : w + r = 60\n"
   ]
  },
  {
   "cell_type": "code",
   "execution_count": 10,
   "id": "f35a31db-e913-4aff-86d0-f1b5be25cdec",
   "metadata": {},
   "outputs": [],
   "source": [
    "# Trinn 2: markedstilpasning etablert bedrift\n",
    "def demand_1(q1):\n",
    "           return (120-q1-q2)"
   ]
  },
  {
   "cell_type": "code",
   "execution_count": 11,
   "id": "83ebec88-e2d5-4e29-b37e-d41411956104",
   "metadata": {},
   "outputs": [],
   "source": [
    "def marginalrevenue_1(q1):\n",
    "    return (120-2*q1-q2)"
   ]
  },
  {
   "cell_type": "code",
   "execution_count": 12,
   "id": "39a30ca3-07ea-46c8-94ee-4930fbec9c8a",
   "metadata": {},
   "outputs": [
    {
     "data": {
      "text/latex": [
       "$\\displaystyle - 2 q_{1} - q_{2} + 120 = 30$"
      ],
      "text/plain": [
       "Eq(-2*q1 - q2 + 120, 30)"
      ]
     },
     "execution_count": 12,
     "metadata": {},
     "output_type": "execute_result"
    }
   ],
   "source": [
    "# Optimal tilpasning for bedrift 1 der MR = MC (=30), her hvor q1<k\n",
    "q2=sp.symbols('q2', real=True, positive=True)\n",
    "q1=sp.symbols('q1', real=True, positive=True)\n",
    "equ=sp.Eq(marginalrevenue_1(q1),30)\n",
    "equ"
   ]
  },
  {
   "cell_type": "code",
   "execution_count": 13,
   "id": "e3e55a34-e497-473c-8605-60679281ee5a",
   "metadata": {},
   "outputs": [
    {
     "data": {
      "text/latex": [
       "$\\displaystyle 45 - \\frac{q_{2}}{2}$"
      ],
      "text/plain": [
       "45 - q2/2"
      ]
     },
     "execution_count": 13,
     "metadata": {},
     "output_type": "execute_result"
    }
   ],
   "source": [
    "#reaksjonsfunksjon til etablert bedrift når q1<k\n",
    "q1_equ=sp.solve(equ,q1)[0]\n",
    "q1_equ"
   ]
  },
  {
   "cell_type": "code",
   "execution_count": 14,
   "id": "a0bade1b-d723-404f-9865-b67c714da2d8",
   "metadata": {},
   "outputs": [
    {
     "data": {
      "text/latex": [
       "$\\displaystyle - 2 q_{1} - q_{2} + 120 = 60$"
      ],
      "text/plain": [
       "Eq(-2*q1 - q2 + 120, 60)"
      ]
     },
     "execution_count": 14,
     "metadata": {},
     "output_type": "execute_result"
    }
   ],
   "source": [
    "# Optimal tilpasning for bedrift 1 der MR = MC (=30+30), her hvor q1>k\n",
    "q2=sp.symbols('q2', real=True, positive=True)\n",
    "q1=sp.symbols('q1', real=True, positive=True)\n",
    "equ=sp.Eq(marginalrevenue_1(q1),60)\n",
    "equ"
   ]
  },
  {
   "cell_type": "code",
   "execution_count": 15,
   "id": "e0967b72-f270-468c-b10c-eeaa7afed2aa",
   "metadata": {},
   "outputs": [
    {
     "data": {
      "text/latex": [
       "$\\displaystyle 30 - \\frac{q_{2}}{2}$"
      ],
      "text/plain": [
       "30 - q2/2"
      ]
     },
     "execution_count": 15,
     "metadata": {},
     "output_type": "execute_result"
    }
   ],
   "source": [
    "#reaksjonsfunksjon til etablert bedrift når q1>k\n",
    "q1_equ=sp.solve(equ,q1)[0]\n",
    "q1_equ"
   ]
  },
  {
   "cell_type": "markdown",
   "id": "f3c4e811-4880-44f4-9b48-1ae6b69ff019",
   "metadata": {},
   "source": [
    "## Strategi for tilpasning\n",
    "\n",
    "Bedrift 1 vil tilpasse seg som Stackelberg leder på trinn 2, og velge kapasitet på trinn 1 som er lik det optimale kvantum i likevekt (𝑞1=𝑘)"
   ]
  },
  {
   "cell_type": "code",
   "execution_count": 16,
   "id": "213bf849-6148-4929-8632-b7f7af0c6d4e",
   "metadata": {},
   "outputs": [],
   "source": [
    "def demand_2(q2):\n",
    "           return (120-q1-q2)"
   ]
  },
  {
   "cell_type": "code",
   "execution_count": 17,
   "id": "becd2a67-8b0c-4bdc-85f7-869b9d6da277",
   "metadata": {},
   "outputs": [],
   "source": [
    "def marginalrevenue_2(q2):\n",
    "        return (120-q1-2*q2)"
   ]
  },
  {
   "cell_type": "code",
   "execution_count": 18,
   "id": "b94b0d54-9c02-4eb0-a70b-3c96bb0dbfd0",
   "metadata": {},
   "outputs": [
    {
     "data": {
      "text/latex": [
       "$\\displaystyle - q_{1} - 2 q_{2} + 120 = 60$"
      ],
      "text/plain": [
       "Eq(-q1 - 2*q2 + 120, 60)"
      ]
     },
     "execution_count": 18,
     "metadata": {},
     "output_type": "execute_result"
    }
   ],
   "source": [
    "# Otimal tilpasning for bedrift 2 der MR = MC (=60)\n",
    "q2=sp.symbols('q2', real=True, positive=True)\n",
    "q1=sp.symbols('q1', real=True, positive=True)\n",
    "equ=sp.Eq(marginalrevenue_2(q2),60)\n",
    "equ"
   ]
  },
  {
   "cell_type": "code",
   "execution_count": 19,
   "id": "cced62c6-6691-465b-942b-af2017e7a0fa",
   "metadata": {},
   "outputs": [
    {
     "data": {
      "text/latex": [
       "$\\displaystyle 30 - \\frac{q_{1}}{2}$"
      ],
      "text/plain": [
       "30 - q1/2"
      ]
     },
     "execution_count": 19,
     "metadata": {},
     "output_type": "execute_result"
    }
   ],
   "source": [
    "#reaksjonsfunksjon til nykommer\n",
    "q2_equ=sp.solve(equ,q2)[0]\n",
    "q2_equ"
   ]
  },
  {
   "cell_type": "markdown",
   "id": "db069427-0f25-40e4-a765-3091c970f300",
   "metadata": {},
   "source": [
    "Reaksjonsfunksjonen til nykommer settes inn i etterspørselen til den etablerte bedriften"
   ]
  },
  {
   "cell_type": "code",
   "execution_count": 20,
   "id": "c3866bc8-af2a-4ee5-b510-2fd4bbfb76b6",
   "metadata": {},
   "outputs": [
    {
     "data": {
      "text/latex": [
       "$\\displaystyle 90 - \\frac{q_{1}}{2}$"
      ],
      "text/plain": [
       "90 - q1/2"
      ]
     },
     "execution_count": 20,
     "metadata": {},
     "output_type": "execute_result"
    }
   ],
   "source": [
    "d_demand_1=demand_1(q1).subs({q2:q2_equ})\n",
    "d_demand_1"
   ]
  },
  {
   "cell_type": "code",
   "execution_count": 21,
   "id": "9c062fde-dd3e-4886-b991-5b195caedd16",
   "metadata": {},
   "outputs": [],
   "source": [
    "def marginalrevenue1_RF2(q1):\n",
    "    return (90-q1)"
   ]
  },
  {
   "cell_type": "code",
   "execution_count": 22,
   "id": "3edc8710-87b6-412e-af82-9f4593a20045",
   "metadata": {},
   "outputs": [
    {
     "data": {
      "text/latex": [
       "$\\displaystyle 90 - q_{1} = 60$"
      ],
      "text/plain": [
       "Eq(90 - q1, 60)"
      ]
     },
     "execution_count": 22,
     "metadata": {},
     "output_type": "execute_result"
    }
   ],
   "source": [
    "# Optimal tilpasning for bedrift 1 der MR = MC (=30+30), \n",
    "q2=sp.symbols('q2', real=True, positive=True)\n",
    "q1=sp.symbols('q1', real=True, positive=True)\n",
    "equ=sp.Eq(marginalrevenue1_RF2(q1),60)\n",
    "equ"
   ]
  },
  {
   "cell_type": "code",
   "execution_count": 23,
   "id": "9dd116ec-0535-47ff-81ba-24b79aaf1fa2",
   "metadata": {},
   "outputs": [
    {
     "data": {
      "text/latex": [
       "$\\displaystyle 30$"
      ],
      "text/plain": [
       "30"
      ]
     },
     "execution_count": 23,
     "metadata": {},
     "output_type": "execute_result"
    }
   ],
   "source": [
    "# optimalt kvantum for den etablerte bedriften, og da også optimalt nivå på investering av kapasitet (k)\n",
    "\n",
    "q1RF2_equ=sp.solve(equ,q1)[0]\n",
    "q1RF2_equ"
   ]
  },
  {
   "cell_type": "markdown",
   "id": "9692eff5-31ba-4299-8b39-c4a94a292238",
   "metadata": {},
   "source": [
    "Optimalt kvantum for nykommer finner vi ved å sette q1 = 30 inn i reaksjonsfunksjonen til nykommer\n"
   ]
  },
  {
   "cell_type": "code",
   "execution_count": 24,
   "id": "01979654-3454-4ed9-84d6-ab8c2e9fa295",
   "metadata": {},
   "outputs": [
    {
     "data": {
      "text/latex": [
       "$\\displaystyle 15$"
      ],
      "text/plain": [
       "15"
      ]
     },
     "execution_count": 24,
     "metadata": {},
     "output_type": "execute_result"
    }
   ],
   "source": [
    "q2_equ2=q2_equ.subs({q1:q1RF2_equ})\n",
    "q2_equ2"
   ]
  },
  {
   "cell_type": "code",
   "execution_count": 25,
   "id": "fc02743b-27e3-4738-ab07-0fc2585d5675",
   "metadata": {},
   "outputs": [],
   "source": [
    "def profit_1(q1,q2):\n",
    "    return ((120-q1-q2)-60)*q1-200"
   ]
  },
  {
   "cell_type": "code",
   "execution_count": 26,
   "id": "4125a7f6-953d-41e0-9500-5fdbc0ff8aec",
   "metadata": {},
   "outputs": [
    {
     "data": {
      "text/latex": [
       "$\\displaystyle 250$"
      ],
      "text/plain": [
       "250"
      ]
     },
     "execution_count": 26,
     "metadata": {},
     "output_type": "execute_result"
    }
   ],
   "source": [
    "# Profitt for etablert bedrift ved tilpasningsstrategi\n",
    "profit_1(q1,q2).subs({q1:q1RF2_equ,q2:q2_equ2})"
   ]
  },
  {
   "cell_type": "code",
   "execution_count": 27,
   "id": "3f40ea1b-96a5-4762-9675-a675bac44324",
   "metadata": {},
   "outputs": [],
   "source": [
    " def profit_2(q1,q2):\n",
    "    return ((120-q1-q2)-60)*q2-200"
   ]
  },
  {
   "cell_type": "code",
   "execution_count": 28,
   "id": "37c61dba-3339-4d68-97e9-d10eb4ed05ce",
   "metadata": {},
   "outputs": [
    {
     "data": {
      "text/latex": [
       "$\\displaystyle 25$"
      ],
      "text/plain": [
       "25"
      ]
     },
     "execution_count": 28,
     "metadata": {},
     "output_type": "execute_result"
    }
   ],
   "source": [
    "# Profitt for nykommer bedrift ved tilpasningsstrategi\n",
    "profit_2(q1,q2).subs({q1:q1RF2_equ,q2:q2_equ2})"
   ]
  },
  {
   "cell_type": "markdown",
   "id": "6375b20a-3d6d-465c-9423-c26466bd6364",
   "metadata": {},
   "source": [
    "## Strategi for avskrekking"
   ]
  },
  {
   "cell_type": "markdown",
   "id": "c843fe97-226c-4305-9cc4-bd08bdfd9f05",
   "metadata": {},
   "source": [
    "For å avskrekke B2 fra å etablere seg må B1 på en troverdig måte binde seg til en kapasitet (på trinn1 ), slik at B2 ikke tjener noe ved å etablere seg i dette markedet. \n",
    "Altså, hvor stor må 𝒒𝟏 være for at 𝝅_𝟐 ≤ 0?\n",
    "\n",
    "𝜋2=(120−(𝑞1+𝑞2)-60)𝑞2−200 ≤ 0"
   ]
  },
  {
   "cell_type": "code",
   "execution_count": 29,
   "id": "2b39c01f-5fa0-4386-ba27-50ac61b2e6f5",
   "metadata": {},
   "outputs": [
    {
     "data": {
      "text/latex": [
       "$\\displaystyle \\left(30 - \\frac{q_{1}}{2}\\right)^{2} - 200$"
      ],
      "text/plain": [
       "(30 - q1/2)**2 - 200"
      ]
     },
     "execution_count": 29,
     "metadata": {},
     "output_type": "execute_result"
    }
   ],
   "source": [
    "# For å finne nivå på 𝑞1 som oppfyller likheten 𝜋2 = 0 settes R2 inn i uttrykket\n",
    "\n",
    "profit_2(q1,q2).subs({q2:q2_equ})"
   ]
  },
  {
   "cell_type": "code",
   "execution_count": 30,
   "id": "6ff94622-051a-4615-a857-7b95156775cb",
   "metadata": {},
   "outputs": [
    {
     "data": {
      "text/latex": [
       "$\\displaystyle 31.72$"
      ],
      "text/plain": [
       "31.72"
      ]
     },
     "execution_count": 30,
     "metadata": {},
     "output_type": "execute_result"
    }
   ],
   "source": [
    "# Optimalt nivå på kapasitet for å avskrekke nykommer fra å etablere seg er lik:\n",
    "q1_equ_k=sp.solve(profit_2(q1,q2).subs({q2:q2_equ}))[0]\n",
    "q1_equ_k\n",
    "round(q1_equ_k,2)"
   ]
  },
  {
   "cell_type": "code",
   "execution_count": 33,
   "id": "c756b2ec-c426-438a-a9ae-e176bdfe25d1",
   "metadata": {},
   "outputs": [],
   "source": [
    "def profit_1(q1):\n",
    "    return ((120-q1)-60)*q1-200"
   ]
  },
  {
   "cell_type": "code",
   "execution_count": 37,
   "id": "551ccb0f-887b-4eb5-a904-a312ce7afd74",
   "metadata": {},
   "outputs": [
    {
     "data": {
      "text/latex": [
       "$\\displaystyle 697$"
      ],
      "text/plain": [
       "697"
      ]
     },
     "execution_count": 37,
     "metadata": {},
     "output_type": "execute_result"
    }
   ],
   "source": [
    "# Profitt for etablert bedrift ved strategi for avskrekking:\n",
    "round(profit_1(q1).subs({q1:q1_equ_k}))"
   ]
  },
  {
   "cell_type": "markdown",
   "id": "fcccbb22-4ec2-4fb6-a706-c954d6064439",
   "metadata": {},
   "source": [
    "Det vil være optimalt å investere i kapasitet for å hindre nyetablering. Den etablerte bedriften vil da opptre som monopolist i markedet.\n"
   ]
  },
  {
   "cell_type": "code",
   "execution_count": null,
   "id": "87e8aa8e-67ae-4ddd-b140-76e9d15deead",
   "metadata": {},
   "outputs": [],
   "source": []
  }
 ],
 "metadata": {
  "kernelspec": {
   "display_name": "Python 3 (ipykernel)",
   "language": "python",
   "name": "python3"
  },
  "language_info": {
   "codemirror_mode": {
    "name": "ipython",
    "version": 3
   },
   "file_extension": ".py",
   "mimetype": "text/x-python",
   "name": "python",
   "nbconvert_exporter": "python",
   "pygments_lexer": "ipython3",
   "version": "3.9.15"
  }
 },
 "nbformat": 4,
 "nbformat_minor": 5
}
