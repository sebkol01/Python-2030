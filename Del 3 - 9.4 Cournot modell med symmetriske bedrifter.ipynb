{
 "cells": [
  {
   "cell_type": "markdown",
   "id": "afd41721-4319-40cd-9ab4-78c09b3aca9c",
   "metadata": {},
   "source": [
    "# Sok-2030 Næringsøkonomi og konkuransestrategi\n",
    "## Del 3 Oligopolmodeller\n",
    "### Cournot modell med symmetriske bedrifter"
   ]
  },
  {
   "cell_type": "code",
   "execution_count": 1,
   "id": "38636316-468e-4088-a00f-9b025ba0c9a9",
   "metadata": {},
   "outputs": [],
   "source": [
    "import sympy as sp\n",
    "import numpy as np\n",
    "from matplotlib import pyplot as plt"
   ]
  },
  {
   "cell_type": "code",
   "execution_count": 2,
   "id": "5a4fd558-32d8-4b7b-a610-45910cce91c7",
   "metadata": {},
   "outputs": [],
   "source": [
    "def demand(q):\n",
    "    return (120-20*q-20*q)"
   ]
  },
  {
   "cell_type": "code",
   "execution_count": 3,
   "id": "84394a47-3d0a-4730-8e61-3bbccb282735",
   "metadata": {},
   "outputs": [],
   "source": [
    "def marginalrevenue(q):\n",
    "    return (120-40*q-20*q)"
   ]
  },
  {
   "cell_type": "code",
   "execution_count": 4,
   "id": "b16de79b-3f20-4555-ae42-8a85977b0271",
   "metadata": {},
   "outputs": [
    {
     "data": {
      "text/latex": [
       "$\\displaystyle 120 - 60 q = 20$"
      ],
      "text/plain": [
       "Eq(120 - 60*q, 20)"
      ]
     },
     "execution_count": 4,
     "metadata": {},
     "output_type": "execute_result"
    }
   ],
   "source": [
    "q=sp.symbols('q', real=True, positive=True)\n",
    "equ=sp.Eq(marginalrevenue(q),20)\n",
    "equ"
   ]
  },
  {
   "cell_type": "markdown",
   "id": "bbae4da2-57f9-4087-aec0-e23ff9033fbe",
   "metadata": {},
   "source": [
    "## Optimal kvantum og pris for bedriftene er:"
   ]
  },
  {
   "cell_type": "code",
   "execution_count": 9,
   "id": "20402a70-07fb-4ce8-a4ef-f44c775080a5",
   "metadata": {},
   "outputs": [
    {
     "data": {
      "text/latex": [
       "$\\displaystyle \\frac{5}{3}$"
      ],
      "text/plain": [
       "5/3"
      ]
     },
     "execution_count": 9,
     "metadata": {},
     "output_type": "execute_result"
    }
   ],
   "source": [
    "q_equ=sp.solve(equ,q)[0]\n",
    "q_equ\n"
   ]
  },
  {
   "cell_type": "code",
   "execution_count": 8,
   "id": "4d71530f-e749-47f0-8107-d9dbe5403bbd",
   "metadata": {},
   "outputs": [
    {
     "data": {
      "text/latex": [
       "$\\displaystyle 1.67$"
      ],
      "text/plain": [
       "1.67"
      ]
     },
     "execution_count": 8,
     "metadata": {},
     "output_type": "execute_result"
    }
   ],
   "source": [
    "round(q_equ,2)"
   ]
  },
  {
   "cell_type": "code",
   "execution_count": 11,
   "id": "0d600f9a-6133-4783-ac42-af9a2ddd0461",
   "metadata": {},
   "outputs": [
    {
     "data": {
      "text/latex": [
       "$\\displaystyle \\frac{160}{3}$"
      ],
      "text/plain": [
       "160/3"
      ]
     },
     "execution_count": 11,
     "metadata": {},
     "output_type": "execute_result"
    }
   ],
   "source": [
    "p_eq=demand(q_equ)\n",
    "p_eq\n"
   ]
  },
  {
   "cell_type": "code",
   "execution_count": 10,
   "id": "ecf79864-86a9-4182-a539-1cfa07e6bf3a",
   "metadata": {},
   "outputs": [
    {
     "data": {
      "text/latex": [
       "$\\displaystyle 53.33$"
      ],
      "text/plain": [
       "53.33"
      ]
     },
     "execution_count": 10,
     "metadata": {},
     "output_type": "execute_result"
    }
   ],
   "source": [
    "round(p_eq,2)"
   ]
  },
  {
   "cell_type": "code",
   "execution_count": null,
   "id": "9c5d6339-2146-4673-85f6-49c0160b332b",
   "metadata": {},
   "outputs": [],
   "source": []
  }
 ],
 "metadata": {
  "kernelspec": {
   "display_name": "Python 3 (ipykernel)",
   "language": "python",
   "name": "python3"
  },
  "language_info": {
   "codemirror_mode": {
    "name": "ipython",
    "version": 3
   },
   "file_extension": ".py",
   "mimetype": "text/x-python",
   "name": "python",
   "nbconvert_exporter": "python",
   "pygments_lexer": "ipython3",
   "version": "3.9.15"
  }
 },
 "nbformat": 4,
 "nbformat_minor": 5
}
