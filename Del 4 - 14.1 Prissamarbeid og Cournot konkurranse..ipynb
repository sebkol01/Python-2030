{
 "cells": [
  {
   "cell_type": "markdown",
   "id": "f51c4389-c6b7-4321-92e4-3f939d9dfcc1",
   "metadata": {},
   "source": [
    "# Sok-2030 Næringsøkonomi og konkuransestrategi\n",
    "## Del 4 Prissamarbeid\n",
    "### Cournot model og \"fangens dilemma\"\n",
    "\n",
    "For å se om prissamarbeid vil lønnne seg må vi sammenligne ulike markedstilpasninger. Vi vil her se på optimal tilpasning ved Cournot konkurranse."
   ]
  },
  {
   "cell_type": "code",
   "execution_count": 6,
   "id": "c3429fe2-df1f-4981-bccd-993469beedab",
   "metadata": {},
   "outputs": [],
   "source": [
    "import sympy as sp\n",
    "import numpy as np\n",
    "from matplotlib import pyplot as plt"
   ]
  },
  {
   "cell_type": "markdown",
   "id": "797d8b8b-7c56-462e-b46b-920910e0f936",
   "metadata": {},
   "source": [
    "Anta følgende etterspørsel: P = 150 – Q  og marginalkostnader: c = 30\n"
   ]
  },
  {
   "cell_type": "code",
   "execution_count": 7,
   "id": "fe801bc7-548c-4719-97b7-561586d908df",
   "metadata": {},
   "outputs": [],
   "source": [
    "def demand_1(q1):\n",
    "           return (150-q1-q2)"
   ]
  },
  {
   "cell_type": "code",
   "execution_count": 8,
   "id": "e372fb1b-4686-4a21-aa5e-d5d7fc6ee678",
   "metadata": {},
   "outputs": [],
   "source": [
    "def demand_2(q2):\n",
    "           return (150-q1-q2)"
   ]
  },
  {
   "cell_type": "code",
   "execution_count": 9,
   "id": "2ae079cc-3fc0-435b-86a1-fbb2f31f5a9d",
   "metadata": {},
   "outputs": [],
   "source": [
    "def marginalrevenue_1(q1):\n",
    "    return (150-2*q1-q2)"
   ]
  },
  {
   "cell_type": "code",
   "execution_count": 10,
   "id": "ca59cdfd-4cdc-436b-91aa-4cd0a93856b3",
   "metadata": {},
   "outputs": [],
   "source": [
    "def marginalrevenue_2(q2):\n",
    "    return (150-2*q2-q1)\n"
   ]
  },
  {
   "cell_type": "markdown",
   "id": "7e74b682-2d83-453b-816f-d8dd59bfe8cb",
   "metadata": {},
   "source": [
    "Optimal tilpasning ved Cournot modell"
   ]
  },
  {
   "cell_type": "code",
   "execution_count": 19,
   "id": "b5fe5a7b-e9aa-4c90-a938-208036ef9fe6",
   "metadata": {},
   "outputs": [
    {
     "data": {
      "text/latex": [
       "$\\displaystyle - q_{1} - 2 q_{2} + 150 = 30$"
      ],
      "text/plain": [
       "Eq(-q1 - 2*q2 + 150, 30)"
      ]
     },
     "execution_count": 19,
     "metadata": {},
     "output_type": "execute_result"
    }
   ],
   "source": [
    "# optimal tilpasning der MR = MC\n",
    "q2=sp.symbols('q2', real=True, positive=True)\n",
    "q1=sp.symbols('q1', real=True, positive=True)\n",
    "equ2=sp.Eq(marginalrevenue_2(q2),30)\n",
    "equ2"
   ]
  },
  {
   "cell_type": "code",
   "execution_count": 22,
   "id": "d0f29406-3de7-4a1e-a66f-c6f3575afb6f",
   "metadata": {},
   "outputs": [
    {
     "data": {
      "text/latex": [
       "$\\displaystyle 60 - \\frac{q_{1}}{2}$"
      ],
      "text/plain": [
       "60 - q1/2"
      ]
     },
     "execution_count": 22,
     "metadata": {},
     "output_type": "execute_result"
    }
   ],
   "source": [
    "#reaksjonsfunksjon til bedrift 2\n",
    "q2_equ=sp.solve(equ2,q2)[0]\n",
    "q2_equ"
   ]
  },
  {
   "cell_type": "code",
   "execution_count": 20,
   "id": "98493f6c-647b-47f0-8f3e-c23c29331bff",
   "metadata": {},
   "outputs": [
    {
     "data": {
      "text/latex": [
       "$\\displaystyle - 2 q_{1} - q_{2} + 150 = 30$"
      ],
      "text/plain": [
       "Eq(-2*q1 - q2 + 150, 30)"
      ]
     },
     "execution_count": 20,
     "metadata": {},
     "output_type": "execute_result"
    }
   ],
   "source": [
    "equ1=sp.Eq(marginalrevenue_1(q1),30)\n",
    "equ1"
   ]
  },
  {
   "cell_type": "code",
   "execution_count": 23,
   "id": "17ca6910-8d82-42f9-a902-b9d1a42bdfe2",
   "metadata": {},
   "outputs": [
    {
     "data": {
      "text/latex": [
       "$\\displaystyle 60 - \\frac{q_{2}}{2}$"
      ],
      "text/plain": [
       "60 - q2/2"
      ]
     },
     "execution_count": 23,
     "metadata": {},
     "output_type": "execute_result"
    }
   ],
   "source": [
    "#reaksjonsfunksjon til bedrift 1\n",
    "q1_equ=sp.solve(equ1,q1)[0]\n",
    "q1_equ"
   ]
  },
  {
   "cell_type": "code",
   "execution_count": 16,
   "id": "c7d8c045-93b1-4179-84d0-9d0b43539c3f",
   "metadata": {},
   "outputs": [
    {
     "data": {
      "text/latex": [
       "$\\displaystyle 60 - \\frac{q_{1}}{2}$"
      ],
      "text/plain": [
       "60 - q1/2"
      ]
     },
     "execution_count": 16,
     "metadata": {},
     "output_type": "execute_result"
    }
   ],
   "source": [
    "#reaksjonsfunksjon til bedrift 2\n",
    "q2_equ=sp.solve(equ,q2)[0]\n",
    "q2_equ"
   ]
  },
  {
   "cell_type": "code",
   "execution_count": 25,
   "id": "eec71586-324b-4ca5-b37a-3ca833d32e67",
   "metadata": {},
   "outputs": [],
   "source": [
    "# setter reaksjonsfunskjon til bedrift 2 inn i reaksjonsfunksjon til bedrift 1\n",
    "q1_unresv_eq = q1_equ.subs(q2, q2_equ)"
   ]
  },
  {
   "cell_type": "code",
   "execution_count": 41,
   "id": "8f55762c-e8e0-401d-a58c-da605c8f134a",
   "metadata": {},
   "outputs": [
    {
     "data": {
      "text/latex": [
       "$\\displaystyle 40$"
      ],
      "text/plain": [
       "40"
      ]
     },
     "execution_count": 41,
     "metadata": {},
     "output_type": "execute_result"
    }
   ],
   "source": [
    "# Løser for å finne optimalt kvantum for bedrift 1\n",
    "q1_equ=sp.solve(sp.Eq(q1_unresv_eq, q1), q1)[0]\n",
    "q1_equ\n"
   ]
  },
  {
   "cell_type": "code",
   "execution_count": 29,
   "id": "70f2d66e-c508-46b3-9c33-3d537848aec8",
   "metadata": {},
   "outputs": [],
   "source": [
    "## setter optimal produksjonskvantum til bedrift 1 (q1=40) inn i reaksjonsfunksjon til bedrift 2\n",
    "q2_unresv_eq = q2_equ.subs(q1, q1_equ)"
   ]
  },
  {
   "cell_type": "code",
   "execution_count": 30,
   "id": "7f71b754-48b7-4803-8c06-95eb73206920",
   "metadata": {},
   "outputs": [
    {
     "data": {
      "text/latex": [
       "$\\displaystyle 40$"
      ],
      "text/plain": [
       "40"
      ]
     },
     "execution_count": 30,
     "metadata": {},
     "output_type": "execute_result"
    }
   ],
   "source": [
    "# Løser for å finne optimalt kvantum for bedrift 1\n",
    "q2_equ=sp.solve(sp.Eq(q2_unresv_eq, q2), q2)[0]\n",
    "q2_equ\n"
   ]
  },
  {
   "cell_type": "code",
   "execution_count": 34,
   "id": "dd35413a-408b-4b8d-815a-dccc622933ff",
   "metadata": {},
   "outputs": [
    {
     "data": {
      "text/latex": [
       "$\\displaystyle 70$"
      ],
      "text/plain": [
       "70"
      ]
     },
     "execution_count": 34,
     "metadata": {},
     "output_type": "execute_result"
    }
   ],
   "source": [
    "demand_1(q1).subs({q1:q1_equ,q2:q2_equ})"
   ]
  },
  {
   "cell_type": "code",
   "execution_count": 49,
   "id": "f1b02ac9-f1ea-4b20-8fc8-6e449cf41e64",
   "metadata": {},
   "outputs": [
    {
     "data": {
      "text/latex": [
       "$\\displaystyle 1600$"
      ],
      "text/plain": [
       "1600"
      ]
     },
     "execution_count": 49,
     "metadata": {},
     "output_type": "execute_result"
    }
   ],
   "source": [
    "# Profitt for begge bedriftene er lik (P-c)q, hvor q er lik 40\n",
    "def profitt(q1):\n",
    "    return (demand_1(q1).subs({q1:q1_equ,q2:q2_equ})-30)*q1_equ\n",
    "round(profitt(q1),2)"
   ]
  },
  {
   "cell_type": "markdown",
   "id": "9b46e237-8ee6-474e-abd4-c051f7269c51",
   "metadata": {},
   "source": [
    "Optimal tilpasning ved avvik når bedrift 1 produsere avtalt mengde på 30 og bedrift 2 velger å avvike fra avtalen om samarbeid\n"
   ]
  },
  {
   "cell_type": "code",
   "execution_count": 48,
   "id": "2d9349b3-291f-4df1-a4e0-233bbc13eaaf",
   "metadata": {},
   "outputs": [],
   "source": [
    "def demand(q1):\n",
    "    return (150-q1-q2)"
   ]
  },
  {
   "cell_type": "code",
   "execution_count": 50,
   "id": "00acdc41-ef02-4fd1-a88a-d21e51f2956b",
   "metadata": {},
   "outputs": [],
   "source": [
    "def demand(q2):\n",
    "    return (150-q1-q2)"
   ]
  },
  {
   "cell_type": "code",
   "execution_count": 72,
   "id": "c8357472-d829-4c51-ab00-d4f3ce6b1031",
   "metadata": {},
   "outputs": [],
   "source": [
    "def marginalrevenue(q2):\n",
    "    return (150-2*q2-q1)"
   ]
  },
  {
   "cell_type": "code",
   "execution_count": 60,
   "id": "7c7cdc64-f379-439f-9d59-c265ed46ff05",
   "metadata": {},
   "outputs": [],
   "source": [
    "def marginalrevenue(q1):\n",
    "    return (150-2*q1-q2)"
   ]
  },
  {
   "cell_type": "code",
   "execution_count": 69,
   "id": "c88532ca-1524-4e01-9c8b-67209db9d03b",
   "metadata": {},
   "outputs": [
    {
     "data": {
      "text/latex": [
       "$\\displaystyle - 2 q_{1} - q_{2} + 150 = 30$"
      ],
      "text/plain": [
       "Eq(-2*q1 - q2 + 150, 30)"
      ]
     },
     "execution_count": 69,
     "metadata": {},
     "output_type": "execute_result"
    }
   ],
   "source": [
    "q1=sp.symbols('q1', real=True, positive=True)\n",
    "equ=sp.Eq(marginalrevenue(q1),30)\n",
    "equ"
   ]
  },
  {
   "cell_type": "code",
   "execution_count": 74,
   "id": "b8103c4c-0418-4575-88d0-032fc8d18f91",
   "metadata": {},
   "outputs": [
    {
     "data": {
      "text/latex": [
       "$\\displaystyle - q_{1} - 2 q_{2} + 150 = 30$"
      ],
      "text/plain": [
       "Eq(-q1 - 2*q2 + 150, 30)"
      ]
     },
     "execution_count": 74,
     "metadata": {},
     "output_type": "execute_result"
    }
   ],
   "source": [
    "q2=sp.symbols('q2', real=True, positive=True)\n",
    "equ=sp.Eq(marginalrevenue(q2),30)\n",
    "equ"
   ]
  },
  {
   "cell_type": "code",
   "execution_count": 70,
   "id": "ba035cda-78f3-408d-ae7a-7c7309a1abdf",
   "metadata": {},
   "outputs": [
    {
     "data": {
      "text/latex": [
       "$\\displaystyle 60 - \\frac{q_{2}}{2}$"
      ],
      "text/plain": [
       "60 - q2/2"
      ]
     },
     "execution_count": 70,
     "metadata": {},
     "output_type": "execute_result"
    }
   ],
   "source": [
    "#reaksjonsfunksjon til bedrift 1\n",
    "q1_equ=sp.solve(equ,q1)[0]\n",
    "q1_equ"
   ]
  },
  {
   "cell_type": "code",
   "execution_count": 92,
   "id": "4ff272f9-be3d-484c-b2de-175178b6c8b2",
   "metadata": {},
   "outputs": [
    {
     "data": {
      "text/latex": [
       "$\\displaystyle 60 - \\frac{q_{1}}{2}$"
      ],
      "text/plain": [
       "60 - q1/2"
      ]
     },
     "execution_count": 92,
     "metadata": {},
     "output_type": "execute_result"
    }
   ],
   "source": [
    "#reaksjonsfunksjon til bedrift 2\n",
    "q2_equ=sp.solve(equ,q2)[0]\n",
    "q2_equ"
   ]
  },
  {
   "cell_type": "code",
   "execution_count": 94,
   "id": "51829692-ffed-456a-b503-ef7cd35e8977",
   "metadata": {},
   "outputs": [
    {
     "name": "stdout",
     "output_type": "stream",
     "text": [
      "45.0\n"
     ]
    }
   ],
   "source": [
    "# optimal mengde for bedrift 2 finner vi ved å sette inn bedrift 1 sin produksjon i RF2 \n",
    "print (60-(30/2))"
   ]
  },
  {
   "cell_type": "code",
   "execution_count": 95,
   "id": "8f4ceed0-2d03-4b00-8a66-d4c17e12f12c",
   "metadata": {},
   "outputs": [
    {
     "name": "stdout",
     "output_type": "stream",
     "text": [
      "75\n"
     ]
    }
   ],
   "source": [
    "# prisen i markedet blir:\n",
    "print (150-30-45)"
   ]
  },
  {
   "cell_type": "code",
   "execution_count": 98,
   "id": "e52a3c74-bf5a-47d0-b46c-648b514a7186",
   "metadata": {},
   "outputs": [
    {
     "name": "stdout",
     "output_type": "stream",
     "text": [
      "1350\n"
     ]
    }
   ],
   "source": [
    "# profitt til bedrift 1 blir da:\n",
    "print ((75-30)*30)"
   ]
  },
  {
   "cell_type": "code",
   "execution_count": 99,
   "id": "892fab9f-6a6d-4bd8-8381-6a1180c5dd8d",
   "metadata": {},
   "outputs": [
    {
     "name": "stdout",
     "output_type": "stream",
     "text": [
      "2025\n"
     ]
    }
   ],
   "source": [
    "# profitt til bedrift 2 blir:\n",
    "print ((75-30)*45)"
   ]
  }
 ],
 "metadata": {
  "kernelspec": {
   "display_name": "Python 3 (ipykernel)",
   "language": "python",
   "name": "python3"
  },
  "language_info": {
   "codemirror_mode": {
    "name": "ipython",
    "version": 3
   },
   "file_extension": ".py",
   "mimetype": "text/x-python",
   "name": "python",
   "nbconvert_exporter": "python",
   "pygments_lexer": "ipython3",
   "version": "3.9.15"
  }
 },
 "nbformat": 4,
 "nbformat_minor": 5
}
