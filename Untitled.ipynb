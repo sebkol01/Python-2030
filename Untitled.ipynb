{
 "cells": [
  {
   "cell_type": "code",
   "execution_count": null,
   "id": "1a48e989-78b7-4092-a3f9-615ebd9bf89f",
   "metadata": {},
   "outputs": [],
   "source": [
    "def profit_1(q1):\n",
    "    return ((50-0.2*q1)-20)*q1-200"
   ]
  },
  {
   "cell_type": "code",
   "execution_count": null,
   "id": "5235ec9e-592a-404e-acb4-e3a60976d6e4",
   "metadata": {},
   "outputs": [],
   "source": [
    "# Profitt for etablert bedrift ved strategi for avskrekking:\n",
    "round(profit_1(q1).subs({q1:q1_equ_k}))"
   ]
  }
 ],
 "metadata": {
  "kernelspec": {
   "display_name": "Python 3 (ipykernel)",
   "language": "python",
   "name": "python3"
  },
  "language_info": {
   "codemirror_mode": {
    "name": "ipython",
    "version": 3
   },
   "file_extension": ".py",
   "mimetype": "text/x-python",
   "name": "python",
   "nbconvert_exporter": "python",
   "pygments_lexer": "ipython3",
   "version": "3.9.15"
  }
 },
 "nbformat": 4,
 "nbformat_minor": 5
}
