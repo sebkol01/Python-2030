{
 "cells": [
  {
   "cell_type": "code",
   "execution_count": 1,
   "id": "1714c6a8-c9df-4bdd-9182-f39c06ecfe0b",
   "metadata": {},
   "outputs": [
    {
     "data": {
      "text/latex": [
       "$\\displaystyle \\frac{A + c_{1} - 2 c_{2}}{3 B}$"
      ],
      "text/plain": [
       "(A + c1 - 2*c2)/(3*B)"
      ]
     },
     "execution_count": 1,
     "metadata": {},
     "output_type": "execute_result"
    }
   ],
   "source": [
    "import sympy as sp\n",
    "from matplotlib import pyplot as plt\n",
    "import numpy as np\n",
    "\n",
    "q1, q2,c1,c2, A, B = sp.symbols('q1 q2 c1 c2 A B')\n",
    "\n",
    "# Marginalinntekt for q1 og q2\n",
    "mr_q1_eq = A - 2*B*q1 - B*q2\n",
    "mr_q2_eq = A - B*q1 - 2*B*q2\n",
    "\n",
    "# finner uttrykk for q1 og q2\n",
    "q1_eq = sp.solve(sp.Eq(mr_q1_eq, c1), q1)[0]\n",
    "q2_eq = sp.solve(sp.Eq(mr_q2_eq, c2), q2)[0]\n",
    "\n",
    "# setter uttrykk for q1 inn i q2\n",
    "q2_unresv_eq = q2_eq.subs(q1, q1_eq)\n",
    "\n",
    "# Løser q2\n",
    "sp.solve(sp.Eq(q2_unresv_eq, q2), q2)[0]"
   ]
  },
  {
   "cell_type": "code",
   "execution_count": null,
   "id": "f8e0405c-bd19-49c9-8915-720f6e595235",
   "metadata": {},
   "outputs": [],
   "source": []
  }
 ],
 "metadata": {
  "kernelspec": {
   "display_name": "Python 3 (ipykernel)",
   "language": "python",
   "name": "python3"
  },
  "language_info": {
   "codemirror_mode": {
    "name": "ipython",
    "version": 3
   },
   "file_extension": ".py",
   "mimetype": "text/x-python",
   "name": "python",
   "nbconvert_exporter": "python",
   "pygments_lexer": "ipython3",
   "version": "3.9.15"
  }
 },
 "nbformat": 4,
 "nbformat_minor": 5
}
