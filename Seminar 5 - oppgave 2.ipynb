{
 "cells": [
  {
   "cell_type": "markdown",
   "id": "cd4222dc-9e5e-439c-819d-b9cac2ea7df7",
   "metadata": {},
   "source": [
    "### Seminar 5 - Oppgave strategisk binding\n",
    "\n",
    "En investorgruppe har kjøpt bryggen til Hjalmar Johansen på Sommarøy, og de planlegger å bygge hotell der. I forkant av dette gjør ledelsen på Sommarøy Hotell en vurdering om de skal utvide sin kapasitet for å avskrekke etablering av nytt hotell. Investorgruppen vil i forkant av en mulig etablering kunne observere denne kapasitetsinvesteringen. \n",
    "Etterspørselen etter hotellrom på Sommarøy er Q =5700 – P, hvor P er markedspris og Q er antall overnattinger. Ved etablering i markedet vil bedriftene ha en irreversibel investeringskostnad på F = 70 000. Kostnaden per enhet kapasitet (antall sengeplasser) som den etablerte bedriften kan investere i er k = 4 000, og marginalkostnaden opp til kapasitetsgrensen er c1 = 600. For kvantum utover kapasitetsgrensen vil marginalkostnaden være c1+k = 4 600. Den potensielle nykommeren vil måtte bygge opp sin kapasitet (antall sengeplasser) ved etablering og vil da ha marginalkostnad   c2 = 4 600.\n",
    "\n",
    "Hva vil du anbefale ledelsen på Sommarøy Hotell å gjøre i forkant av en mulig nyetablering i hotellmarkedet? \n",
    "\n",
    "\n"
   ]
  },
  {
   "cell_type": "markdown",
   "id": "1dcfccdd-d4cb-434e-b885-c33e5c6f10bb",
   "metadata": {},
   "source": [
    "Vi bruker modell for strategiske investeringer i kapasitet av Spence (1977) & Dixit (1980) til å løse oppgaven"
   ]
  },
  {
   "cell_type": "code",
   "execution_count": 1,
   "id": "66eec531-6761-461b-b675-2bb40be5a3fc",
   "metadata": {},
   "outputs": [],
   "source": [
    "import sympy as sp\n",
    "from sympy import *\n",
    "import numpy as np\n",
    "from matplotlib import pyplot as plt"
   ]
  },
  {
   "cell_type": "markdown",
   "id": "dcea2482-258f-4a75-99f5-9b9ef0270eec",
   "metadata": {},
   "source": [
    "Vi ser på en modell med to aktører; etablert bedrift (B1) og potensiell nykommer (B2), hvor vi har et dynamisk spill med Trinn 1: Etablert aktør velger å investere i kapasitet 𝐾. Trinn 2: Nykommer observere 𝐾, og velger etablering eller ikke. Bedriftene velger optimalt nivå på kvantum og kapasitet"
   ]
  },
  {
   "cell_type": "code",
   "execution_count": 2,
   "id": "ec4741ec-faf7-4de8-bebc-317abd3b999e",
   "metadata": {},
   "outputs": [],
   "source": [
    "def demand_1(q1):\n",
    "           return (5700-q1-q2)"
   ]
  },
  {
   "cell_type": "code",
   "execution_count": 8,
   "id": "97890ea6-9f54-4590-b407-8933d76ff903",
   "metadata": {},
   "outputs": [],
   "source": [
    "def demand_2(q2):\n",
    "           return (5700-q1-q2)"
   ]
  },
  {
   "cell_type": "code",
   "execution_count": 9,
   "id": "9aead3eb-cfe6-4e23-8f86-f8f4ce447200",
   "metadata": {},
   "outputs": [],
   "source": [
    "def marginalrevenue_1(q1):\n",
    "    return (5700-q2-2*q1)"
   ]
  },
  {
   "cell_type": "code",
   "execution_count": 10,
   "id": "2b05a017-9550-4f8a-acc5-6eee685b05b6",
   "metadata": {},
   "outputs": [],
   "source": [
    "def marginalrevenue_2(q2):\n",
    "    return (5700-q1-2*q2)"
   ]
  },
  {
   "cell_type": "markdown",
   "id": "4dfe6f8f-0ff8-448e-b7ab-3b43fff6b912",
   "metadata": {},
   "source": [
    "## Strategi for tilpasning\n",
    "\n",
    "Bedrift 1 vil tilpasse seg som Stackelberg leder på trinn 2, og velge kapasitet på trinn 1 som er lik det optimale kvantum i likevekt (𝑞1=𝑘)"
   ]
  },
  {
   "cell_type": "code",
   "execution_count": 11,
   "id": "db6ce4fd-6dd1-4e16-91a6-479322d72055",
   "metadata": {},
   "outputs": [
    {
     "data": {
      "text/latex": [
       "$\\displaystyle - q_{1} - 2 q_{2} + 5700 = 4600$"
      ],
      "text/plain": [
       "Eq(-q1 - 2*q2 + 5700, 4600)"
      ]
     },
     "execution_count": 11,
     "metadata": {},
     "output_type": "execute_result"
    }
   ],
   "source": [
    "# Otimal tilpasning for bedrift 2 der MR = MC (=60)\n",
    "q2=sp.symbols('q2', real=True, positive=True)\n",
    "q1=sp.symbols('q1', real=True, positive=True)\n",
    "equ=sp.Eq(marginalrevenue_2(q2),4600)\n",
    "equ"
   ]
  },
  {
   "cell_type": "code",
   "execution_count": 12,
   "id": "f3903f1a-e4d8-4a2a-9033-6e9a288356c1",
   "metadata": {},
   "outputs": [
    {
     "data": {
      "text/latex": [
       "$\\displaystyle 550 - \\frac{q_{1}}{2}$"
      ],
      "text/plain": [
       "550 - q1/2"
      ]
     },
     "execution_count": 12,
     "metadata": {},
     "output_type": "execute_result"
    }
   ],
   "source": [
    "#reaksjonsfunksjon til nykommer\n",
    "q2_equ=sp.solve(equ,q2)[0]\n",
    "q2_equ"
   ]
  },
  {
   "cell_type": "markdown",
   "id": "0c01433f-e818-419a-944d-768e9d0ebba0",
   "metadata": {},
   "source": [
    "Reaksjonsfunksjonen til nykommer settes inn i etterspørselen til den etablerte bedriften"
   ]
  },
  {
   "cell_type": "code",
   "execution_count": 13,
   "id": "9a0c35e5-3bf2-48e5-8671-3eb8a56d7827",
   "metadata": {},
   "outputs": [
    {
     "data": {
      "text/latex": [
       "$\\displaystyle 5150 - \\frac{q_{1}}{2}$"
      ],
      "text/plain": [
       "5150 - q1/2"
      ]
     },
     "execution_count": 13,
     "metadata": {},
     "output_type": "execute_result"
    }
   ],
   "source": [
    "d_demand_1=demand_1(q1).subs({q2:q2_equ})\n",
    "d_demand_1"
   ]
  },
  {
   "cell_type": "code",
   "execution_count": 15,
   "id": "f12333dd-acc7-4018-be4a-13d28a7eb972",
   "metadata": {},
   "outputs": [],
   "source": [
    "def marginalrevenue1_RF2(q1):\n",
    "    return (5150-q1)"
   ]
  },
  {
   "cell_type": "code",
   "execution_count": 16,
   "id": "b7674f06-5f2d-44ff-bbc1-13b88b2651ac",
   "metadata": {},
   "outputs": [
    {
     "data": {
      "text/latex": [
       "$\\displaystyle 5150 - q_{1} = 4600$"
      ],
      "text/plain": [
       "Eq(5150 - q1, 4600)"
      ]
     },
     "execution_count": 16,
     "metadata": {},
     "output_type": "execute_result"
    }
   ],
   "source": [
    "# Optimal tilpasning for bedrift 1 der MR = MC (=30+30), \n",
    "q2=sp.symbols('q2', real=True, positive=True)\n",
    "q1=sp.symbols('q1', real=True, positive=True)\n",
    "equ=sp.Eq(marginalrevenue1_RF2(q1),4600)\n",
    "equ"
   ]
  },
  {
   "cell_type": "code",
   "execution_count": 17,
   "id": "bd5a25bb-41b3-4e50-8af0-f655ee2fe70f",
   "metadata": {},
   "outputs": [
    {
     "data": {
      "text/latex": [
       "$\\displaystyle 550$"
      ],
      "text/plain": [
       "550"
      ]
     },
     "execution_count": 17,
     "metadata": {},
     "output_type": "execute_result"
    }
   ],
   "source": [
    "# optimalt kvantum for den etablerte bedriften, og da også optimalt nivå på investering av kapasitet (k)\n",
    "q1RF2_equ=sp.solve(equ,q1)[0]\n",
    "q1RF2_equ"
   ]
  },
  {
   "cell_type": "markdown",
   "id": "e1590d86-0416-442a-acde-4e58a45bb98d",
   "metadata": {},
   "source": [
    "Optimalt kvantum for nykommer finner vi ved å sette q1 = 550 inn i reaksjonsfunksjonen til nykommer"
   ]
  },
  {
   "cell_type": "code",
   "execution_count": 18,
   "id": "ab9fa34a-1833-43a5-a2c6-35ad50882021",
   "metadata": {},
   "outputs": [
    {
     "data": {
      "text/latex": [
       "$\\displaystyle 275$"
      ],
      "text/plain": [
       "275"
      ]
     },
     "execution_count": 18,
     "metadata": {},
     "output_type": "execute_result"
    }
   ],
   "source": [
    "q2_equ2=q2_equ.subs({q1:q1RF2_equ})\n",
    "q2_equ2"
   ]
  },
  {
   "cell_type": "code",
   "execution_count": 23,
   "id": "4da15962-dff3-479a-97e6-0fc98c796435",
   "metadata": {},
   "outputs": [],
   "source": [
    "def profit_1(q1,q2):\n",
    "    return ((5700-q1-q2)-4600)*q1-70000"
   ]
  },
  {
   "cell_type": "code",
   "execution_count": 24,
   "id": "77b9eab3-80f8-47f3-b0ef-7586a875bc13",
   "metadata": {},
   "outputs": [
    {
     "data": {
      "text/latex": [
       "$\\displaystyle 81250$"
      ],
      "text/plain": [
       "81250"
      ]
     },
     "execution_count": 24,
     "metadata": {},
     "output_type": "execute_result"
    }
   ],
   "source": [
    "# Profitt for etablert bedrift ved tilpasningsstrategi\n",
    "profit_1(q1,q2).subs({q1:q1RF2_equ,q2:q2_equ2})"
   ]
  },
  {
   "cell_type": "code",
   "execution_count": 25,
   "id": "e04ea188-5888-4cdd-aeb1-5eaf72b75c57",
   "metadata": {},
   "outputs": [],
   "source": [
    "def profit_2(q1,q2):\n",
    "    return ((5700-q1-q2)-4600)*q2-70000"
   ]
  },
  {
   "cell_type": "code",
   "execution_count": 26,
   "id": "f7183aae-0d63-4d12-9439-0fa6460172a6",
   "metadata": {},
   "outputs": [
    {
     "data": {
      "text/latex": [
       "$\\displaystyle 5625$"
      ],
      "text/plain": [
       "5625"
      ]
     },
     "execution_count": 26,
     "metadata": {},
     "output_type": "execute_result"
    }
   ],
   "source": [
    "# Profitt for nykommer bedrift ved tilpasningsstrategi\n",
    "profit_2(q1,q2).subs({q1:q1RF2_equ,q2:q2_equ2})"
   ]
  },
  {
   "cell_type": "markdown",
   "id": "0ef6638b-6e7b-4c26-99a2-402ec94ff9ca",
   "metadata": {},
   "source": [
    "## Strategi for avskrekking"
   ]
  },
  {
   "cell_type": "markdown",
   "id": "4d6d21b0-17d4-46c6-880a-aec0ce7085bf",
   "metadata": {},
   "source": [
    "For å avskrekke B2 fra å etablere seg må B1 på en troverdig måte binde seg til en kapasitet (på trinn1 ), slik at B2 ikke tjener noe ved å etablere seg i dette markedet. Altså, hvor stor må 𝒒𝟏 være for at 𝝅_𝟐 ≤ 0?\n",
    "\n",
    "𝜋2=(5700−(𝑞1+𝑞2)-4600)𝑞2−70000 ≤ 0"
   ]
  },
  {
   "cell_type": "code",
   "execution_count": 27,
   "id": "35cfa808-dbf0-4830-96a9-99698cb2c07a",
   "metadata": {},
   "outputs": [
    {
     "data": {
      "text/latex": [
       "$\\displaystyle \\left(550 - \\frac{q_{1}}{2}\\right)^{2} - 70000$"
      ],
      "text/plain": [
       "(550 - q1/2)**2 - 70000"
      ]
     },
     "execution_count": 27,
     "metadata": {},
     "output_type": "execute_result"
    }
   ],
   "source": [
    "# For å finne nivå på 𝑞1 som oppfyller likheten 𝜋2 = 0 settes R2 inn i uttrykket\n",
    "\n",
    "profit_2(q1,q2).subs({q2:q2_equ})"
   ]
  },
  {
   "cell_type": "code",
   "execution_count": 30,
   "id": "df5f2baf-ff7c-46a0-b4eb-7894ca1f1ce3",
   "metadata": {},
   "outputs": [
    {
     "data": {
      "text/latex": [
       "$\\displaystyle 570.85$"
      ],
      "text/plain": [
       "570.85"
      ]
     },
     "execution_count": 30,
     "metadata": {},
     "output_type": "execute_result"
    }
   ],
   "source": [
    "# Optimalt nivå på kapasitet for å avskrekke nykommer fra å etablere seg er lik:\n",
    "q1_equ_k=sp.solve(profit_2(q1,q2).subs({q2:q2_equ}))[0]\n",
    "q1_equ_k\n",
    "round(q1_equ_k,2)"
   ]
  },
  {
   "cell_type": "code",
   "execution_count": 31,
   "id": "bafc30e3-7335-49ee-8c5f-a3c150925ef2",
   "metadata": {},
   "outputs": [],
   "source": [
    "def profit_1(q1):\n",
    "    return ((5700-q1)-4600)*q1-70000"
   ]
  },
  {
   "cell_type": "code",
   "execution_count": 37,
   "id": "0001b36f-576c-41c6-ad43-5bb86f76145e",
   "metadata": {},
   "outputs": [
    {
     "data": {
      "text/latex": [
       "$\\displaystyle 232065$"
      ],
      "text/plain": [
       "232065"
      ]
     },
     "execution_count": 37,
     "metadata": {},
     "output_type": "execute_result"
    }
   ],
   "source": [
    "# Profitt for etablert bedrift ved strategi for avskrekking:\n",
    "round(profit_1(q1).subs({q1:q1_equ_k}))"
   ]
  },
  {
   "cell_type": "markdown",
   "id": "6f670c47-e24d-4980-b0f4-f900c20c5fe1",
   "metadata": {},
   "source": [
    "Det vil være optimalt å investere i kapasitet for å hindre nyetablering. Den etablerte bedriften vil da opptre som monopolist i markedet."
   ]
  },
  {
   "cell_type": "code",
   "execution_count": null,
   "id": "417cb0b3-7eae-40be-ba3f-38d08e0ad4b8",
   "metadata": {},
   "outputs": [],
   "source": []
  }
 ],
 "metadata": {
  "kernelspec": {
   "display_name": "Python 3 (ipykernel)",
   "language": "python",
   "name": "python3"
  },
  "language_info": {
   "codemirror_mode": {
    "name": "ipython",
    "version": 3
   },
   "file_extension": ".py",
   "mimetype": "text/x-python",
   "name": "python",
   "nbconvert_exporter": "python",
   "pygments_lexer": "ipython3",
   "version": "3.9.15"
  }
 },
 "nbformat": 4,
 "nbformat_minor": 5
}
