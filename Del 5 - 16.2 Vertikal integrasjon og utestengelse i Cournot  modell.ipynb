{
 "cells": [
  {
   "cell_type": "markdown",
   "id": "d7da4af5-664e-4c9e-bf79-c78815fc4a30",
   "metadata": {},
   "source": [
    "# Sok-2030 Næringsøkonomi og konkuransestrategi\n",
    "## Del 5 Relasjoner mellom bedrifter\n",
    "### Vertikale fusjoner og dobbel-marginalisering\n",
    "\n",
    "Vi antar et marked bestående av to oppstrømsbedrifter, M1 og M2, og to nedstrømsbedrifter, R1 og R2. Invers ettersprøsel er gitt ved: P(Q) = A - B(q1+q2). Oppstrømsbedriftene produserer innsatsfaktor som selges til nedstrømsbedriftene til pris lik w. Oppstrømsbedriftene har marginalkostnader lik c, og nedstrømsbedriften har marginalkostand lik k, pluss innkjøpskostander på w. \n",
    "### To-trinns spill: \n",
    "    Trinn 1: Oppstrømsbedriftene velger optimal pris til nedstrømsbedriftene; w\n",
    "    Trinn 2: Nedstrømsbedriftene velger optimalt kvantum og pris i sluttbrukermarkedet; P\n",
    "    \n",
    "Vi bruker baklengs indukjon og starter med Trinn 2."
   ]
  },
  {
   "cell_type": "code",
   "execution_count": 2,
   "id": "444fb2d1-a39e-44a7-977f-3620d5f266a2",
   "metadata": {},
   "outputs": [],
   "source": [
    "import sympy as sp\n",
    "from sympy import *\n",
    "import numpy as np\n",
    "from matplotlib import pyplot as plt"
   ]
  },
  {
   "cell_type": "markdown",
   "id": "25116caf-3189-49e1-94e1-5b36f96dc284",
   "metadata": {},
   "source": [
    "Trinn 2: Nedstrømsbedriftene velger optimalt produksjonsnivå i Cournot modell"
   ]
  },
  {
   "cell_type": "code",
   "execution_count": 179,
   "id": "aca6389c-8ff8-47a2-b10c-f544d7c26a6e",
   "metadata": {},
   "outputs": [],
   "source": [
    "qR1, qR2,qM1, qM2,c,k,w, A, B, QR, QM =symbols('q^R_1 q^R_2 q^M_1 q^M_2 c k w A B Q^R Q^M ', \n",
    "                                          positive=True)"
   ]
  },
  {
   "cell_type": "code",
   "execution_count": 48,
   "id": "0f2e8f1c-a81f-4c93-85bf-10c764510e01",
   "metadata": {},
   "outputs": [],
   "source": [
    "def demand_1R(qR1):\n",
    "           return (A-B*qR1-B*qR2)"
   ]
  },
  {
   "cell_type": "code",
   "execution_count": 49,
   "id": "f98f0bd2-2e89-4077-890b-ccbb4539bf84",
   "metadata": {},
   "outputs": [],
   "source": [
    "def demand_2R(qR2):\n",
    "           return (A-B*qR1-B*qR2)"
   ]
  },
  {
   "cell_type": "code",
   "execution_count": 50,
   "id": "326862de-6c03-4b65-b106-95ac8bd4f60e",
   "metadata": {},
   "outputs": [],
   "source": [
    "def marginalrevenue_1R(qR1):\n",
    "    return (A-2*B*qR1-B*qR2)"
   ]
  },
  {
   "cell_type": "code",
   "execution_count": 51,
   "id": "2b06389f-e473-4e2b-a166-4418eda4a0f5",
   "metadata": {},
   "outputs": [],
   "source": [
    "def marginalrevenue_2R(qR2):\n",
    "    return (A-B*qR1-2*B*qR2)"
   ]
  },
  {
   "cell_type": "code",
   "execution_count": 129,
   "id": "03f37842-bccb-4107-99db-f51cf30647a7",
   "metadata": {},
   "outputs": [
    {
     "data": {
      "text/latex": [
       "$\\displaystyle A - B q^{R}_{1} - 2 B q^{R}_{2} = k + w$"
      ],
      "text/plain": [
       "Eq(A - B*q^R_1 - 2*B*q^R_2, k + w)"
      ]
     },
     "execution_count": 129,
     "metadata": {},
     "output_type": "execute_result"
    }
   ],
   "source": [
    "equ_R2 = sp.Eq(marginalrevenue_2R(qR2),w+k)\n",
    "equ_R2"
   ]
  },
  {
   "cell_type": "code",
   "execution_count": 134,
   "id": "9aa7b58a-6022-44d8-b7da-181cf7df656b",
   "metadata": {},
   "outputs": [
    {
     "data": {
      "text/latex": [
       "$\\displaystyle A - 2 B q^{R}_{1} - B q^{R}_{2} = k + w$"
      ],
      "text/plain": [
       "Eq(A - 2*B*q^R_1 - B*q^R_2, k + w)"
      ]
     },
     "execution_count": 134,
     "metadata": {},
     "output_type": "execute_result"
    }
   ],
   "source": [
    "equ_R1 = sp.Eq(marginalrevenue_1R(qR1),w+k)\n",
    "equ_R1"
   ]
  },
  {
   "cell_type": "code",
   "execution_count": 102,
   "id": "9cc71a86-15c0-43a3-8014-8049fa210639",
   "metadata": {},
   "outputs": [
    {
     "data": {
      "text/latex": [
       "$\\displaystyle \\frac{A - B q^{R}_{2} - k - w}{2 B}$"
      ],
      "text/plain": [
       "(A - B*q^R_2 - k - w)/(2*B)"
      ]
     },
     "execution_count": 102,
     "metadata": {},
     "output_type": "execute_result"
    }
   ],
   "source": [
    "#reaksjonsfunksjon til bedrift 1\n",
    "qR1_equ = sp.solve(equ_R1, qR1)[0]\n",
    "qR1_equ"
   ]
  },
  {
   "cell_type": "code",
   "execution_count": 103,
   "id": "bfa146cf-72a0-48af-87d8-3800cf69ce9a",
   "metadata": {},
   "outputs": [
    {
     "data": {
      "text/latex": [
       "$\\displaystyle \\frac{A - B q^{R}_{1} - k - w}{2 B}$"
      ],
      "text/plain": [
       "(A - B*q^R_1 - k - w)/(2*B)"
      ]
     },
     "execution_count": 103,
     "metadata": {},
     "output_type": "execute_result"
    }
   ],
   "source": [
    "#reaksjonsfunksjon til bedrift 2\n",
    "qR2_equ=sp.solve(equ_R2,qR2)[0]\n",
    "qR2_equ"
   ]
  },
  {
   "cell_type": "code",
   "execution_count": 109,
   "id": "d4f49574-795b-4b68-b8b0-0a796315fb06",
   "metadata": {},
   "outputs": [
    {
     "data": {
      "text/latex": [
       "$\\displaystyle \\frac{A - k - w}{3 B}$"
      ],
      "text/plain": [
       "(A - k - w)/(3*B)"
      ]
     },
     "execution_count": 109,
     "metadata": {},
     "output_type": "execute_result"
    }
   ],
   "source": [
    "# setter uttrykk for q1 inn i q2\n",
    "qR2_unresv_eq = qR2_equ.subs(qR1, qR1_equ)\n",
    "qR2_opt = sp.solve(sp.Eq(qR2, qR2_unresv_eq), qR2)[0]\n",
    "qR2_opt"
   ]
  },
  {
   "cell_type": "code",
   "execution_count": 110,
   "id": "6b6dd3fb-03b0-4278-8a0c-d6ec80ee5e36",
   "metadata": {},
   "outputs": [
    {
     "data": {
      "text/latex": [
       "$\\displaystyle \\frac{A - k - w}{3 B}$"
      ],
      "text/plain": [
       "(A - k - w)/(3*B)"
      ]
     },
     "execution_count": 110,
     "metadata": {},
     "output_type": "execute_result"
    }
   ],
   "source": [
    "# setter uttrykk for q2 inn i q1\n",
    "qR1_unresv_eq = qR1_equ.subs(qR2, qR2_equ)\n",
    "qR1_opt = sp.solve(sp.Eq(qR1, qR1_unresv_eq), qR1)[0]\n",
    "qR1_opt"
   ]
  },
  {
   "cell_type": "markdown",
   "id": "bc181506-f4aa-422f-b3d5-c6e2dc801075",
   "metadata": {},
   "source": [
    "Trinn 1: QR = qR1 + qR2 = 2(A-k-w)/3B. Dette vil være etterspørselen til oppstrømsbedriftene "
   ]
  },
  {
   "cell_type": "code",
   "execution_count": 112,
   "id": "4045145c-51fe-418e-8942-d5fc2b7e9357",
   "metadata": {},
   "outputs": [
    {
     "data": {
      "text/latex": [
       "$\\displaystyle \\frac{2 \\left(A - k - w\\right)}{3 B}$"
      ],
      "text/plain": [
       "2*(A - k - w)/(3*B)"
      ]
     },
     "execution_count": 112,
     "metadata": {},
     "output_type": "execute_result"
    }
   ],
   "source": [
    "QR_eq = qR1_opt + qR2_opt\n",
    "QR_eq"
   ]
  },
  {
   "cell_type": "code",
   "execution_count": 117,
   "id": "965a0b0c-f873-4f22-b57c-6c928d52af44",
   "metadata": {},
   "outputs": [
    {
     "data": {
      "text/latex": [
       "$\\displaystyle Q^{R} = \\frac{2 \\left(A - k - w\\right)}{3 B}$"
      ],
      "text/plain": [
       "Eq(Q^R, 2*(A - k - w)/(3*B))"
      ]
     },
     "execution_count": 117,
     "metadata": {},
     "output_type": "execute_result"
    }
   ],
   "source": [
    "QR_unresv = sp.Eq(QR, QR_eq)\n",
    "QR_unresv"
   ]
  },
  {
   "cell_type": "code",
   "execution_count": 172,
   "id": "89294f02-9740-4331-bc8b-5a7d0a31dbab",
   "metadata": {},
   "outputs": [
    {
     "data": {
      "text/latex": [
       "$\\displaystyle A - \\frac{3 B Q^{R}}{2} - k$"
      ],
      "text/plain": [
       "A - 3*B*Q^R/2 - k"
      ]
     },
     "execution_count": 172,
     "metadata": {},
     "output_type": "execute_result"
    }
   ],
   "source": [
    "w_equ = sp.solve(QR_unresv, w)[0]\n",
    "w_equ"
   ]
  },
  {
   "cell_type": "markdown",
   "id": "e9e4589d-e831-484f-ba08-bbdea287488c",
   "metadata": {},
   "source": [
    "Oppstømsbedriftene tilpasser seg også i Cournot konkurranse"
   ]
  },
  {
   "cell_type": "code",
   "execution_count": 121,
   "id": "0a232e56-f3d8-4b68-b4b7-ca038ddcf8f9",
   "metadata": {},
   "outputs": [],
   "source": [
    "def demand_1M(qM1):\n",
    "           return (A-k-(3*B*(qM1+qM2)/2))"
   ]
  },
  {
   "cell_type": "code",
   "execution_count": 127,
   "id": "6aab70b6-a6f4-42dc-9f6b-896375acde28",
   "metadata": {},
   "outputs": [],
   "source": [
    "def demand_2M(qM2):\n",
    "           return (A-k-(3*B*QR/2))\n"
   ]
  },
  {
   "cell_type": "code",
   "execution_count": 159,
   "id": "7329e5c5-305a-4c94-8623-173c4630271f",
   "metadata": {},
   "outputs": [],
   "source": [
    "def marginalrevenue_1M(qM1):\n",
    "     return (A-k-(3*B*qM1)-(3*B*qM2)/2)"
   ]
  },
  {
   "cell_type": "code",
   "execution_count": 160,
   "id": "5d0666a0-1af9-433b-a1bd-09f93966f152",
   "metadata": {},
   "outputs": [],
   "source": [
    "def marginalrevenue_2M(qM2):\n",
    "     return (A-k-(3*B*qM2)-(3*B*qM1)/2)"
   ]
  },
  {
   "cell_type": "code",
   "execution_count": 161,
   "id": "7621213b-7b5a-4ca5-bc40-860681f931c4",
   "metadata": {},
   "outputs": [
    {
     "data": {
      "text/latex": [
       "$\\displaystyle A - 3 B q^{M}_{1} - \\frac{3 B q^{M}_{2}}{2} - k = c$"
      ],
      "text/plain": [
       "Eq(A - 3*B*q^M_1 - 3*B*q^M_2/2 - k, c)"
      ]
     },
     "execution_count": 161,
     "metadata": {},
     "output_type": "execute_result"
    }
   ],
   "source": [
    "equ_M1 = sp.Eq(marginalrevenue_1M(qM1),c)\n",
    "equ_M1"
   ]
  },
  {
   "cell_type": "code",
   "execution_count": 162,
   "id": "99e76ca0-892f-46bd-bcec-f2a0a9950903",
   "metadata": {},
   "outputs": [
    {
     "data": {
      "text/latex": [
       "$\\displaystyle A - \\frac{3 B q^{M}_{1}}{2} - 3 B q^{M}_{2} - k = c$"
      ],
      "text/plain": [
       "Eq(A - 3*B*q^M_1/2 - 3*B*q^M_2 - k, c)"
      ]
     },
     "execution_count": 162,
     "metadata": {},
     "output_type": "execute_result"
    }
   ],
   "source": [
    "equ_M2 = sp.Eq(marginalrevenue_2M(qM2),c)\n",
    "equ_M2"
   ]
  },
  {
   "cell_type": "code",
   "execution_count": 163,
   "id": "7f1d8356-f4bd-4f5f-b0a3-44cad9f63179",
   "metadata": {},
   "outputs": [
    {
     "data": {
      "text/latex": [
       "$\\displaystyle \\frac{\\frac{A}{3} - \\frac{B q^{M}_{2}}{2} - \\frac{c}{3} - \\frac{k}{3}}{B}$"
      ],
      "text/plain": [
       "(A/3 - B*q^M_2/2 - c/3 - k/3)/B"
      ]
     },
     "execution_count": 163,
     "metadata": {},
     "output_type": "execute_result"
    }
   ],
   "source": [
    "#reaksjonsfunksjon til bedrift 1\n",
    "qM1_equ = sp.solve(equ_M1, qM1)[0]\n",
    "qM1_equ"
   ]
  },
  {
   "cell_type": "code",
   "execution_count": 164,
   "id": "5665cda0-2a34-4258-a482-2fb25757dca6",
   "metadata": {},
   "outputs": [
    {
     "data": {
      "text/latex": [
       "$\\displaystyle \\frac{\\frac{A}{3} - \\frac{B q^{M}_{1}}{2} - \\frac{c}{3} - \\frac{k}{3}}{B}$"
      ],
      "text/plain": [
       "(A/3 - B*q^M_1/2 - c/3 - k/3)/B"
      ]
     },
     "execution_count": 164,
     "metadata": {},
     "output_type": "execute_result"
    }
   ],
   "source": [
    "#reaksjonsfunksjon til bedrift 2\n",
    "qM2_equ = sp.solve(equ_M2, qM2)[0]\n",
    "qM2_equ"
   ]
  },
  {
   "cell_type": "code",
   "execution_count": 165,
   "id": "ecc811c9-ac4d-4bbf-a008-d252c2fee561",
   "metadata": {},
   "outputs": [
    {
     "data": {
      "text/latex": [
       "$\\displaystyle \\frac{2 \\left(A - c - k\\right)}{9 B}$"
      ],
      "text/plain": [
       "2*(A - c - k)/(9*B)"
      ]
     },
     "execution_count": 165,
     "metadata": {},
     "output_type": "execute_result"
    }
   ],
   "source": [
    "# setter uttrykk for qM1 inn i qM2 og finner optimalt kvantum til M2:\n",
    "qM2_unresv_eq = qM2_equ.subs(qM1, qM1_equ)\n",
    "qM2_opt = sp.solve(sp.Eq(qM2, qM2_unresv_eq), qM2)[0]\n",
    "qM2_opt"
   ]
  },
  {
   "cell_type": "code",
   "execution_count": 166,
   "id": "230c73d5-c3f8-4d64-9e13-ca4f081920e4",
   "metadata": {},
   "outputs": [
    {
     "data": {
      "text/latex": [
       "$\\displaystyle \\frac{2 \\left(A - c - k\\right)}{9 B}$"
      ],
      "text/plain": [
       "2*(A - c - k)/(9*B)"
      ]
     },
     "execution_count": 166,
     "metadata": {},
     "output_type": "execute_result"
    }
   ],
   "source": [
    "#  setter uttrykk for qM2 inn i qM1 og finner optimalt kvantum til M2:\n",
    "qM1_unresv_eq = qM1_equ.subs(qM2, qM2_equ)\n",
    "qM1_opt = sp.solve(sp.Eq(qM1, qM1_unresv_eq), qM1)[0]\n",
    "qM1_opt"
   ]
  },
  {
   "cell_type": "code",
   "execution_count": 180,
   "id": "bb64c51e-41fd-4cc1-b6f8-4f4bad2b3c96",
   "metadata": {},
   "outputs": [
    {
     "data": {
      "text/latex": [
       "$\\displaystyle \\frac{4 \\left(A - c - k\\right)}{9 B}$"
      ],
      "text/plain": [
       "4*(A - c - k)/(9*B)"
      ]
     },
     "execution_count": 180,
     "metadata": {},
     "output_type": "execute_result"
    }
   ],
   "source": [
    "QM_eq = qM1_opt + qM2_opt\n",
    "QM_eq"
   ]
  },
  {
   "cell_type": "code",
   "execution_count": 199,
   "id": "41da57e3-c6b8-4dcc-ba54-a6b50103d24f",
   "metadata": {},
   "outputs": [
    {
     "name": "stdout",
     "output_type": "stream",
     "text": [
      "A/3 + 2*c/3 - k/3\n"
     ]
    }
   ],
   "source": [
    "# Optimal pris til nedstrømsbedriftene w=A-k-3B/2QM\n",
    "# Setter inn for QM\n",
    "print (A-k-(3*B/2)*(4*(A-c-k)/(9*B)))\n"
   ]
  },
  {
   "cell_type": "code",
   "execution_count": null,
   "id": "3a7b853d-e93a-42dd-a42c-c441fa16d1d4",
   "metadata": {},
   "outputs": [],
   "source": [
    "# Optimal pris til nedstrømsbedriftene w=A-k-3B/2QM\n",
    "# Setter inn for QM\n",
    "print (A-k-(3*B/2)*(4*(A-c-k)/(9*B)))\n"
   ]
  }
 ],
 "metadata": {
  "kernelspec": {
   "display_name": "Python 3 (ipykernel)",
   "language": "python",
   "name": "python3"
  },
  "language_info": {
   "codemirror_mode": {
    "name": "ipython",
    "version": 3
   },
   "file_extension": ".py",
   "mimetype": "text/x-python",
   "name": "python",
   "nbconvert_exporter": "python",
   "pygments_lexer": "ipython3",
   "version": "3.9.15"
  }
 },
 "nbformat": 4,
 "nbformat_minor": 5
}
